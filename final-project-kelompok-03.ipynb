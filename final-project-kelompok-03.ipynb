{
 "cells": [
  {
   "cell_type": "code",
   "execution_count": 1,
   "id": "65092672",
   "metadata": {},
   "outputs": [],
   "source": [
    "import pandas as pd\n",
    "import matplotlib.pyplot as plt\n",
    "import numpy as np\n",
    "from sklearn import datasets, linear_model, metrics\n",
    "import seaborn as sns"
   ]
  },
  {
   "cell_type": "markdown",
   "id": "cb6586f2",
   "metadata": {},
   "source": [
    "### 1: Exploratory Data Analysis"
   ]
  },
  {
   "cell_type": "markdown",
   "id": "89ab2bd1",
   "metadata": {},
   "source": [
    "#### Importing Data"
   ]
  },
  {
   "cell_type": "code",
   "execution_count": 2,
   "id": "46d19b62",
   "metadata": {},
   "outputs": [
    {
     "data": {
      "text/html": [
       "<div>\n",
       "<style scoped>\n",
       "    .dataframe tbody tr th:only-of-type {\n",
       "        vertical-align: middle;\n",
       "    }\n",
       "\n",
       "    .dataframe tbody tr th {\n",
       "        vertical-align: top;\n",
       "    }\n",
       "\n",
       "    .dataframe thead th {\n",
       "        text-align: right;\n",
       "    }\n",
       "</style>\n",
       "<table border=\"1\" class=\"dataframe\">\n",
       "  <thead>\n",
       "    <tr style=\"text-align: right;\">\n",
       "      <th></th>\n",
       "      <th>car_ID</th>\n",
       "      <th>symboling</th>\n",
       "      <th>CarName</th>\n",
       "      <th>fueltype</th>\n",
       "      <th>aspiration</th>\n",
       "      <th>doornumber</th>\n",
       "      <th>carbody</th>\n",
       "      <th>drivewheel</th>\n",
       "      <th>enginelocation</th>\n",
       "      <th>wheelbase</th>\n",
       "      <th>...</th>\n",
       "      <th>enginesize</th>\n",
       "      <th>fuelsystem</th>\n",
       "      <th>boreratio</th>\n",
       "      <th>stroke</th>\n",
       "      <th>compressionratio</th>\n",
       "      <th>horsepower</th>\n",
       "      <th>peakrpm</th>\n",
       "      <th>citympg</th>\n",
       "      <th>highwaympg</th>\n",
       "      <th>price</th>\n",
       "    </tr>\n",
       "  </thead>\n",
       "  <tbody>\n",
       "    <tr>\n",
       "      <th>0</th>\n",
       "      <td>1</td>\n",
       "      <td>3</td>\n",
       "      <td>alfa-romero giulia</td>\n",
       "      <td>gas</td>\n",
       "      <td>std</td>\n",
       "      <td>two</td>\n",
       "      <td>convertible</td>\n",
       "      <td>rwd</td>\n",
       "      <td>front</td>\n",
       "      <td>88.6</td>\n",
       "      <td>...</td>\n",
       "      <td>130</td>\n",
       "      <td>mpfi</td>\n",
       "      <td>3.47</td>\n",
       "      <td>2.68</td>\n",
       "      <td>9.0</td>\n",
       "      <td>111</td>\n",
       "      <td>5000</td>\n",
       "      <td>21</td>\n",
       "      <td>27</td>\n",
       "      <td>13495.0</td>\n",
       "    </tr>\n",
       "    <tr>\n",
       "      <th>1</th>\n",
       "      <td>2</td>\n",
       "      <td>3</td>\n",
       "      <td>alfa-romero stelvio</td>\n",
       "      <td>gas</td>\n",
       "      <td>std</td>\n",
       "      <td>two</td>\n",
       "      <td>convertible</td>\n",
       "      <td>rwd</td>\n",
       "      <td>front</td>\n",
       "      <td>88.6</td>\n",
       "      <td>...</td>\n",
       "      <td>130</td>\n",
       "      <td>mpfi</td>\n",
       "      <td>3.47</td>\n",
       "      <td>2.68</td>\n",
       "      <td>9.0</td>\n",
       "      <td>111</td>\n",
       "      <td>5000</td>\n",
       "      <td>21</td>\n",
       "      <td>27</td>\n",
       "      <td>16500.0</td>\n",
       "    </tr>\n",
       "    <tr>\n",
       "      <th>2</th>\n",
       "      <td>3</td>\n",
       "      <td>1</td>\n",
       "      <td>alfa-romero Quadrifoglio</td>\n",
       "      <td>gas</td>\n",
       "      <td>std</td>\n",
       "      <td>two</td>\n",
       "      <td>hatchback</td>\n",
       "      <td>rwd</td>\n",
       "      <td>front</td>\n",
       "      <td>94.5</td>\n",
       "      <td>...</td>\n",
       "      <td>152</td>\n",
       "      <td>mpfi</td>\n",
       "      <td>2.68</td>\n",
       "      <td>3.47</td>\n",
       "      <td>9.0</td>\n",
       "      <td>154</td>\n",
       "      <td>5000</td>\n",
       "      <td>19</td>\n",
       "      <td>26</td>\n",
       "      <td>16500.0</td>\n",
       "    </tr>\n",
       "    <tr>\n",
       "      <th>3</th>\n",
       "      <td>4</td>\n",
       "      <td>2</td>\n",
       "      <td>audi 100 ls</td>\n",
       "      <td>gas</td>\n",
       "      <td>std</td>\n",
       "      <td>four</td>\n",
       "      <td>sedan</td>\n",
       "      <td>fwd</td>\n",
       "      <td>front</td>\n",
       "      <td>99.8</td>\n",
       "      <td>...</td>\n",
       "      <td>109</td>\n",
       "      <td>mpfi</td>\n",
       "      <td>3.19</td>\n",
       "      <td>3.40</td>\n",
       "      <td>10.0</td>\n",
       "      <td>102</td>\n",
       "      <td>5500</td>\n",
       "      <td>24</td>\n",
       "      <td>30</td>\n",
       "      <td>13950.0</td>\n",
       "    </tr>\n",
       "    <tr>\n",
       "      <th>4</th>\n",
       "      <td>5</td>\n",
       "      <td>2</td>\n",
       "      <td>audi 100ls</td>\n",
       "      <td>gas</td>\n",
       "      <td>std</td>\n",
       "      <td>four</td>\n",
       "      <td>sedan</td>\n",
       "      <td>4wd</td>\n",
       "      <td>front</td>\n",
       "      <td>99.4</td>\n",
       "      <td>...</td>\n",
       "      <td>136</td>\n",
       "      <td>mpfi</td>\n",
       "      <td>3.19</td>\n",
       "      <td>3.40</td>\n",
       "      <td>8.0</td>\n",
       "      <td>115</td>\n",
       "      <td>5500</td>\n",
       "      <td>18</td>\n",
       "      <td>22</td>\n",
       "      <td>17450.0</td>\n",
       "    </tr>\n",
       "    <tr>\n",
       "      <th>...</th>\n",
       "      <td>...</td>\n",
       "      <td>...</td>\n",
       "      <td>...</td>\n",
       "      <td>...</td>\n",
       "      <td>...</td>\n",
       "      <td>...</td>\n",
       "      <td>...</td>\n",
       "      <td>...</td>\n",
       "      <td>...</td>\n",
       "      <td>...</td>\n",
       "      <td>...</td>\n",
       "      <td>...</td>\n",
       "      <td>...</td>\n",
       "      <td>...</td>\n",
       "      <td>...</td>\n",
       "      <td>...</td>\n",
       "      <td>...</td>\n",
       "      <td>...</td>\n",
       "      <td>...</td>\n",
       "      <td>...</td>\n",
       "      <td>...</td>\n",
       "    </tr>\n",
       "    <tr>\n",
       "      <th>200</th>\n",
       "      <td>201</td>\n",
       "      <td>-1</td>\n",
       "      <td>volvo 145e (sw)</td>\n",
       "      <td>gas</td>\n",
       "      <td>std</td>\n",
       "      <td>four</td>\n",
       "      <td>sedan</td>\n",
       "      <td>rwd</td>\n",
       "      <td>front</td>\n",
       "      <td>109.1</td>\n",
       "      <td>...</td>\n",
       "      <td>141</td>\n",
       "      <td>mpfi</td>\n",
       "      <td>3.78</td>\n",
       "      <td>3.15</td>\n",
       "      <td>9.5</td>\n",
       "      <td>114</td>\n",
       "      <td>5400</td>\n",
       "      <td>23</td>\n",
       "      <td>28</td>\n",
       "      <td>16845.0</td>\n",
       "    </tr>\n",
       "    <tr>\n",
       "      <th>201</th>\n",
       "      <td>202</td>\n",
       "      <td>-1</td>\n",
       "      <td>volvo 144ea</td>\n",
       "      <td>gas</td>\n",
       "      <td>turbo</td>\n",
       "      <td>four</td>\n",
       "      <td>sedan</td>\n",
       "      <td>rwd</td>\n",
       "      <td>front</td>\n",
       "      <td>109.1</td>\n",
       "      <td>...</td>\n",
       "      <td>141</td>\n",
       "      <td>mpfi</td>\n",
       "      <td>3.78</td>\n",
       "      <td>3.15</td>\n",
       "      <td>8.7</td>\n",
       "      <td>160</td>\n",
       "      <td>5300</td>\n",
       "      <td>19</td>\n",
       "      <td>25</td>\n",
       "      <td>19045.0</td>\n",
       "    </tr>\n",
       "    <tr>\n",
       "      <th>202</th>\n",
       "      <td>203</td>\n",
       "      <td>-1</td>\n",
       "      <td>volvo 244dl</td>\n",
       "      <td>gas</td>\n",
       "      <td>std</td>\n",
       "      <td>four</td>\n",
       "      <td>sedan</td>\n",
       "      <td>rwd</td>\n",
       "      <td>front</td>\n",
       "      <td>109.1</td>\n",
       "      <td>...</td>\n",
       "      <td>173</td>\n",
       "      <td>mpfi</td>\n",
       "      <td>3.58</td>\n",
       "      <td>2.87</td>\n",
       "      <td>8.8</td>\n",
       "      <td>134</td>\n",
       "      <td>5500</td>\n",
       "      <td>18</td>\n",
       "      <td>23</td>\n",
       "      <td>21485.0</td>\n",
       "    </tr>\n",
       "    <tr>\n",
       "      <th>203</th>\n",
       "      <td>204</td>\n",
       "      <td>-1</td>\n",
       "      <td>volvo 246</td>\n",
       "      <td>diesel</td>\n",
       "      <td>turbo</td>\n",
       "      <td>four</td>\n",
       "      <td>sedan</td>\n",
       "      <td>rwd</td>\n",
       "      <td>front</td>\n",
       "      <td>109.1</td>\n",
       "      <td>...</td>\n",
       "      <td>145</td>\n",
       "      <td>idi</td>\n",
       "      <td>3.01</td>\n",
       "      <td>3.40</td>\n",
       "      <td>23.0</td>\n",
       "      <td>106</td>\n",
       "      <td>4800</td>\n",
       "      <td>26</td>\n",
       "      <td>27</td>\n",
       "      <td>22470.0</td>\n",
       "    </tr>\n",
       "    <tr>\n",
       "      <th>204</th>\n",
       "      <td>205</td>\n",
       "      <td>-1</td>\n",
       "      <td>volvo 264gl</td>\n",
       "      <td>gas</td>\n",
       "      <td>turbo</td>\n",
       "      <td>four</td>\n",
       "      <td>sedan</td>\n",
       "      <td>rwd</td>\n",
       "      <td>front</td>\n",
       "      <td>109.1</td>\n",
       "      <td>...</td>\n",
       "      <td>141</td>\n",
       "      <td>mpfi</td>\n",
       "      <td>3.78</td>\n",
       "      <td>3.15</td>\n",
       "      <td>9.5</td>\n",
       "      <td>114</td>\n",
       "      <td>5400</td>\n",
       "      <td>19</td>\n",
       "      <td>25</td>\n",
       "      <td>22625.0</td>\n",
       "    </tr>\n",
       "  </tbody>\n",
       "</table>\n",
       "<p>205 rows × 26 columns</p>\n",
       "</div>"
      ],
      "text/plain": [
       "     car_ID  symboling                   CarName fueltype aspiration  \\\n",
       "0         1          3        alfa-romero giulia      gas        std   \n",
       "1         2          3       alfa-romero stelvio      gas        std   \n",
       "2         3          1  alfa-romero Quadrifoglio      gas        std   \n",
       "3         4          2               audi 100 ls      gas        std   \n",
       "4         5          2                audi 100ls      gas        std   \n",
       "..      ...        ...                       ...      ...        ...   \n",
       "200     201         -1           volvo 145e (sw)      gas        std   \n",
       "201     202         -1               volvo 144ea      gas      turbo   \n",
       "202     203         -1               volvo 244dl      gas        std   \n",
       "203     204         -1                 volvo 246   diesel      turbo   \n",
       "204     205         -1               volvo 264gl      gas      turbo   \n",
       "\n",
       "    doornumber      carbody drivewheel enginelocation  wheelbase  ...  \\\n",
       "0          two  convertible        rwd          front       88.6  ...   \n",
       "1          two  convertible        rwd          front       88.6  ...   \n",
       "2          two    hatchback        rwd          front       94.5  ...   \n",
       "3         four        sedan        fwd          front       99.8  ...   \n",
       "4         four        sedan        4wd          front       99.4  ...   \n",
       "..         ...          ...        ...            ...        ...  ...   \n",
       "200       four        sedan        rwd          front      109.1  ...   \n",
       "201       four        sedan        rwd          front      109.1  ...   \n",
       "202       four        sedan        rwd          front      109.1  ...   \n",
       "203       four        sedan        rwd          front      109.1  ...   \n",
       "204       four        sedan        rwd          front      109.1  ...   \n",
       "\n",
       "     enginesize  fuelsystem  boreratio  stroke compressionratio horsepower  \\\n",
       "0           130        mpfi       3.47    2.68              9.0        111   \n",
       "1           130        mpfi       3.47    2.68              9.0        111   \n",
       "2           152        mpfi       2.68    3.47              9.0        154   \n",
       "3           109        mpfi       3.19    3.40             10.0        102   \n",
       "4           136        mpfi       3.19    3.40              8.0        115   \n",
       "..          ...         ...        ...     ...              ...        ...   \n",
       "200         141        mpfi       3.78    3.15              9.5        114   \n",
       "201         141        mpfi       3.78    3.15              8.7        160   \n",
       "202         173        mpfi       3.58    2.87              8.8        134   \n",
       "203         145         idi       3.01    3.40             23.0        106   \n",
       "204         141        mpfi       3.78    3.15              9.5        114   \n",
       "\n",
       "     peakrpm citympg  highwaympg    price  \n",
       "0       5000      21          27  13495.0  \n",
       "1       5000      21          27  16500.0  \n",
       "2       5000      19          26  16500.0  \n",
       "3       5500      24          30  13950.0  \n",
       "4       5500      18          22  17450.0  \n",
       "..       ...     ...         ...      ...  \n",
       "200     5400      23          28  16845.0  \n",
       "201     5300      19          25  19045.0  \n",
       "202     5500      18          23  21485.0  \n",
       "203     4800      26          27  22470.0  \n",
       "204     5400      19          25  22625.0  \n",
       "\n",
       "[205 rows x 26 columns]"
      ]
     },
     "execution_count": 2,
     "metadata": {},
     "output_type": "execute_result"
    }
   ],
   "source": [
    "df = pd.read_csv('CarPrice_Assignment.csv')\n",
    "df"
   ]
  },
  {
   "cell_type": "markdown",
   "id": "4ee7e4ab",
   "metadata": {},
   "source": [
    "#### Checking Column Types"
   ]
  },
  {
   "cell_type": "code",
   "execution_count": 3,
   "id": "57f95c4a",
   "metadata": {
    "scrolled": true
   },
   "outputs": [
    {
     "name": "stdout",
     "output_type": "stream",
     "text": [
      "<class 'pandas.core.frame.DataFrame'>\n",
      "RangeIndex: 205 entries, 0 to 204\n",
      "Data columns (total 26 columns):\n",
      " #   Column            Non-Null Count  Dtype  \n",
      "---  ------            --------------  -----  \n",
      " 0   car_ID            205 non-null    int64  \n",
      " 1   symboling         205 non-null    int64  \n",
      " 2   CarName           205 non-null    object \n",
      " 3   fueltype          205 non-null    object \n",
      " 4   aspiration        205 non-null    object \n",
      " 5   doornumber        205 non-null    object \n",
      " 6   carbody           205 non-null    object \n",
      " 7   drivewheel        205 non-null    object \n",
      " 8   enginelocation    205 non-null    object \n",
      " 9   wheelbase         205 non-null    float64\n",
      " 10  carlength         205 non-null    float64\n",
      " 11  carwidth          205 non-null    float64\n",
      " 12  carheight         205 non-null    float64\n",
      " 13  curbweight        205 non-null    int64  \n",
      " 14  enginetype        205 non-null    object \n",
      " 15  cylindernumber    205 non-null    object \n",
      " 16  enginesize        205 non-null    int64  \n",
      " 17  fuelsystem        205 non-null    object \n",
      " 18  boreratio         205 non-null    float64\n",
      " 19  stroke            205 non-null    float64\n",
      " 20  compressionratio  205 non-null    float64\n",
      " 21  horsepower        205 non-null    int64  \n",
      " 22  peakrpm           205 non-null    int64  \n",
      " 23  citympg           205 non-null    int64  \n",
      " 24  highwaympg        205 non-null    int64  \n",
      " 25  price             205 non-null    float64\n",
      "dtypes: float64(8), int64(8), object(10)\n",
      "memory usage: 41.8+ KB\n"
     ]
    }
   ],
   "source": [
    "df.info()"
   ]
  },
  {
   "cell_type": "code",
   "execution_count": 4,
   "id": "85d30410",
   "metadata": {},
   "outputs": [
    {
     "data": {
      "text/plain": [
       "0     two\n",
       "1     two\n",
       "2     two\n",
       "3    four\n",
       "4    four\n",
       "Name: doornumber, dtype: object"
      ]
     },
     "execution_count": 4,
     "metadata": {},
     "output_type": "execute_result"
    }
   ],
   "source": [
    "df['doornumber'].head()"
   ]
  },
  {
   "cell_type": "code",
   "execution_count": 5,
   "id": "32aa08b0",
   "metadata": {},
   "outputs": [
    {
     "data": {
      "text/plain": [
       "0    four\n",
       "1    four\n",
       "2     six\n",
       "3    four\n",
       "4    five\n",
       "Name: cylindernumber, dtype: object"
      ]
     },
     "execution_count": 5,
     "metadata": {},
     "output_type": "execute_result"
    }
   ],
   "source": [
    "df['cylindernumber'].head()"
   ]
  },
  {
   "cell_type": "markdown",
   "id": "92027eff",
   "metadata": {},
   "source": [
    "- Semua kolom dari dataset 'CarPrice' tidak memiliki 'missing value'\n",
    "- kolom 'doornumber' dan 'cylindernumber' berisi data text angka sehingga lebih baik diganti dengan numerik dan mengubah tipenya menjadi 'int64'"
   ]
  },
  {
   "cell_type": "code",
   "execution_count": 6,
   "id": "2062af7d",
   "metadata": {},
   "outputs": [],
   "source": [
    "#change dtype of cylindernumber and doornumber from object to int\n",
    "\n",
    "dict_car = {\n",
    "    'two':'2',\n",
    "    'three':'3',\n",
    "    'four':'4',\n",
    "    'five':'5',\n",
    "    'six':'6',\n",
    "    'eight':'8',\n",
    "    'twelve':'12'\n",
    "}\n",
    "\n",
    "df['cylindernumber'] = df['cylindernumber'].map(dict_car).astype('int64')\n",
    "df['doornumber'] = df['doornumber'].map(dict_car).astype('int64')"
   ]
  },
  {
   "cell_type": "code",
   "execution_count": 7,
   "id": "e3b2a201",
   "metadata": {},
   "outputs": [
    {
     "data": {
      "text/plain": [
       "0    2\n",
       "1    2\n",
       "2    2\n",
       "3    4\n",
       "4    4\n",
       "Name: doornumber, dtype: int64"
      ]
     },
     "execution_count": 7,
     "metadata": {},
     "output_type": "execute_result"
    }
   ],
   "source": [
    "df['doornumber'].head()"
   ]
  },
  {
   "cell_type": "code",
   "execution_count": 8,
   "id": "cd460177",
   "metadata": {},
   "outputs": [
    {
     "data": {
      "text/plain": [
       "0    4\n",
       "1    4\n",
       "2    6\n",
       "3    4\n",
       "4    5\n",
       "Name: cylindernumber, dtype: int64"
      ]
     },
     "execution_count": 8,
     "metadata": {},
     "output_type": "execute_result"
    }
   ],
   "source": [
    "df['cylindernumber'].head()"
   ]
  },
  {
   "cell_type": "markdown",
   "id": "ea39052a",
   "metadata": {},
   "source": [
    "#### Checking Duplicated Data"
   ]
  },
  {
   "cell_type": "code",
   "execution_count": 9,
   "id": "ac5df162",
   "metadata": {},
   "outputs": [
    {
     "data": {
      "text/html": [
       "<div>\n",
       "<style scoped>\n",
       "    .dataframe tbody tr th:only-of-type {\n",
       "        vertical-align: middle;\n",
       "    }\n",
       "\n",
       "    .dataframe tbody tr th {\n",
       "        vertical-align: top;\n",
       "    }\n",
       "\n",
       "    .dataframe thead th {\n",
       "        text-align: right;\n",
       "    }\n",
       "</style>\n",
       "<table border=\"1\" class=\"dataframe\">\n",
       "  <thead>\n",
       "    <tr style=\"text-align: right;\">\n",
       "      <th></th>\n",
       "      <th>car_ID</th>\n",
       "      <th>symboling</th>\n",
       "      <th>CarName</th>\n",
       "      <th>fueltype</th>\n",
       "      <th>aspiration</th>\n",
       "      <th>doornumber</th>\n",
       "      <th>carbody</th>\n",
       "      <th>drivewheel</th>\n",
       "      <th>enginelocation</th>\n",
       "      <th>wheelbase</th>\n",
       "      <th>...</th>\n",
       "      <th>enginesize</th>\n",
       "      <th>fuelsystem</th>\n",
       "      <th>boreratio</th>\n",
       "      <th>stroke</th>\n",
       "      <th>compressionratio</th>\n",
       "      <th>horsepower</th>\n",
       "      <th>peakrpm</th>\n",
       "      <th>citympg</th>\n",
       "      <th>highwaympg</th>\n",
       "      <th>price</th>\n",
       "    </tr>\n",
       "  </thead>\n",
       "  <tbody>\n",
       "  </tbody>\n",
       "</table>\n",
       "<p>0 rows × 26 columns</p>\n",
       "</div>"
      ],
      "text/plain": [
       "Empty DataFrame\n",
       "Columns: [car_ID, symboling, CarName, fueltype, aspiration, doornumber, carbody, drivewheel, enginelocation, wheelbase, carlength, carwidth, carheight, curbweight, enginetype, cylindernumber, enginesize, fuelsystem, boreratio, stroke, compressionratio, horsepower, peakrpm, citympg, highwaympg, price]\n",
       "Index: []\n",
       "\n",
       "[0 rows x 26 columns]"
      ]
     },
     "execution_count": 9,
     "metadata": {},
     "output_type": "execute_result"
    }
   ],
   "source": [
    "dup = df[df.duplicated()]\n",
    "dup"
   ]
  },
  {
   "cell_type": "markdown",
   "id": "280bf274",
   "metadata": {},
   "source": [
    "#### Statistical Information"
   ]
  },
  {
   "cell_type": "code",
   "execution_count": 10,
   "id": "9e90c9f4",
   "metadata": {},
   "outputs": [
    {
     "data": {
      "text/html": [
       "<div>\n",
       "<style scoped>\n",
       "    .dataframe tbody tr th:only-of-type {\n",
       "        vertical-align: middle;\n",
       "    }\n",
       "\n",
       "    .dataframe tbody tr th {\n",
       "        vertical-align: top;\n",
       "    }\n",
       "\n",
       "    .dataframe thead th {\n",
       "        text-align: right;\n",
       "    }\n",
       "</style>\n",
       "<table border=\"1\" class=\"dataframe\">\n",
       "  <thead>\n",
       "    <tr style=\"text-align: right;\">\n",
       "      <th></th>\n",
       "      <th>count</th>\n",
       "      <th>mean</th>\n",
       "      <th>std</th>\n",
       "      <th>min</th>\n",
       "      <th>25%</th>\n",
       "      <th>50%</th>\n",
       "      <th>75%</th>\n",
       "      <th>max</th>\n",
       "    </tr>\n",
       "  </thead>\n",
       "  <tbody>\n",
       "    <tr>\n",
       "      <th>car_ID</th>\n",
       "      <td>205.0</td>\n",
       "      <td>103.000000</td>\n",
       "      <td>59.322565</td>\n",
       "      <td>1.00</td>\n",
       "      <td>52.00</td>\n",
       "      <td>103.00</td>\n",
       "      <td>154.00</td>\n",
       "      <td>205.00</td>\n",
       "    </tr>\n",
       "    <tr>\n",
       "      <th>symboling</th>\n",
       "      <td>205.0</td>\n",
       "      <td>0.834146</td>\n",
       "      <td>1.245307</td>\n",
       "      <td>-2.00</td>\n",
       "      <td>0.00</td>\n",
       "      <td>1.00</td>\n",
       "      <td>2.00</td>\n",
       "      <td>3.00</td>\n",
       "    </tr>\n",
       "    <tr>\n",
       "      <th>doornumber</th>\n",
       "      <td>205.0</td>\n",
       "      <td>3.121951</td>\n",
       "      <td>0.994966</td>\n",
       "      <td>2.00</td>\n",
       "      <td>2.00</td>\n",
       "      <td>4.00</td>\n",
       "      <td>4.00</td>\n",
       "      <td>4.00</td>\n",
       "    </tr>\n",
       "    <tr>\n",
       "      <th>wheelbase</th>\n",
       "      <td>205.0</td>\n",
       "      <td>98.756585</td>\n",
       "      <td>6.021776</td>\n",
       "      <td>86.60</td>\n",
       "      <td>94.50</td>\n",
       "      <td>97.00</td>\n",
       "      <td>102.40</td>\n",
       "      <td>120.90</td>\n",
       "    </tr>\n",
       "    <tr>\n",
       "      <th>carlength</th>\n",
       "      <td>205.0</td>\n",
       "      <td>174.049268</td>\n",
       "      <td>12.337289</td>\n",
       "      <td>141.10</td>\n",
       "      <td>166.30</td>\n",
       "      <td>173.20</td>\n",
       "      <td>183.10</td>\n",
       "      <td>208.10</td>\n",
       "    </tr>\n",
       "    <tr>\n",
       "      <th>carwidth</th>\n",
       "      <td>205.0</td>\n",
       "      <td>65.907805</td>\n",
       "      <td>2.145204</td>\n",
       "      <td>60.30</td>\n",
       "      <td>64.10</td>\n",
       "      <td>65.50</td>\n",
       "      <td>66.90</td>\n",
       "      <td>72.30</td>\n",
       "    </tr>\n",
       "    <tr>\n",
       "      <th>carheight</th>\n",
       "      <td>205.0</td>\n",
       "      <td>53.724878</td>\n",
       "      <td>2.443522</td>\n",
       "      <td>47.80</td>\n",
       "      <td>52.00</td>\n",
       "      <td>54.10</td>\n",
       "      <td>55.50</td>\n",
       "      <td>59.80</td>\n",
       "    </tr>\n",
       "    <tr>\n",
       "      <th>curbweight</th>\n",
       "      <td>205.0</td>\n",
       "      <td>2555.565854</td>\n",
       "      <td>520.680204</td>\n",
       "      <td>1488.00</td>\n",
       "      <td>2145.00</td>\n",
       "      <td>2414.00</td>\n",
       "      <td>2935.00</td>\n",
       "      <td>4066.00</td>\n",
       "    </tr>\n",
       "    <tr>\n",
       "      <th>cylindernumber</th>\n",
       "      <td>205.0</td>\n",
       "      <td>4.380488</td>\n",
       "      <td>1.080854</td>\n",
       "      <td>2.00</td>\n",
       "      <td>4.00</td>\n",
       "      <td>4.00</td>\n",
       "      <td>4.00</td>\n",
       "      <td>12.00</td>\n",
       "    </tr>\n",
       "    <tr>\n",
       "      <th>enginesize</th>\n",
       "      <td>205.0</td>\n",
       "      <td>126.907317</td>\n",
       "      <td>41.642693</td>\n",
       "      <td>61.00</td>\n",
       "      <td>97.00</td>\n",
       "      <td>120.00</td>\n",
       "      <td>141.00</td>\n",
       "      <td>326.00</td>\n",
       "    </tr>\n",
       "    <tr>\n",
       "      <th>boreratio</th>\n",
       "      <td>205.0</td>\n",
       "      <td>3.329756</td>\n",
       "      <td>0.270844</td>\n",
       "      <td>2.54</td>\n",
       "      <td>3.15</td>\n",
       "      <td>3.31</td>\n",
       "      <td>3.58</td>\n",
       "      <td>3.94</td>\n",
       "    </tr>\n",
       "    <tr>\n",
       "      <th>stroke</th>\n",
       "      <td>205.0</td>\n",
       "      <td>3.255415</td>\n",
       "      <td>0.313597</td>\n",
       "      <td>2.07</td>\n",
       "      <td>3.11</td>\n",
       "      <td>3.29</td>\n",
       "      <td>3.41</td>\n",
       "      <td>4.17</td>\n",
       "    </tr>\n",
       "    <tr>\n",
       "      <th>compressionratio</th>\n",
       "      <td>205.0</td>\n",
       "      <td>10.142537</td>\n",
       "      <td>3.972040</td>\n",
       "      <td>7.00</td>\n",
       "      <td>8.60</td>\n",
       "      <td>9.00</td>\n",
       "      <td>9.40</td>\n",
       "      <td>23.00</td>\n",
       "    </tr>\n",
       "    <tr>\n",
       "      <th>horsepower</th>\n",
       "      <td>205.0</td>\n",
       "      <td>104.117073</td>\n",
       "      <td>39.544167</td>\n",
       "      <td>48.00</td>\n",
       "      <td>70.00</td>\n",
       "      <td>95.00</td>\n",
       "      <td>116.00</td>\n",
       "      <td>288.00</td>\n",
       "    </tr>\n",
       "    <tr>\n",
       "      <th>peakrpm</th>\n",
       "      <td>205.0</td>\n",
       "      <td>5125.121951</td>\n",
       "      <td>476.985643</td>\n",
       "      <td>4150.00</td>\n",
       "      <td>4800.00</td>\n",
       "      <td>5200.00</td>\n",
       "      <td>5500.00</td>\n",
       "      <td>6600.00</td>\n",
       "    </tr>\n",
       "    <tr>\n",
       "      <th>citympg</th>\n",
       "      <td>205.0</td>\n",
       "      <td>25.219512</td>\n",
       "      <td>6.542142</td>\n",
       "      <td>13.00</td>\n",
       "      <td>19.00</td>\n",
       "      <td>24.00</td>\n",
       "      <td>30.00</td>\n",
       "      <td>49.00</td>\n",
       "    </tr>\n",
       "    <tr>\n",
       "      <th>highwaympg</th>\n",
       "      <td>205.0</td>\n",
       "      <td>30.751220</td>\n",
       "      <td>6.886443</td>\n",
       "      <td>16.00</td>\n",
       "      <td>25.00</td>\n",
       "      <td>30.00</td>\n",
       "      <td>34.00</td>\n",
       "      <td>54.00</td>\n",
       "    </tr>\n",
       "    <tr>\n",
       "      <th>price</th>\n",
       "      <td>205.0</td>\n",
       "      <td>13276.710571</td>\n",
       "      <td>7988.852332</td>\n",
       "      <td>5118.00</td>\n",
       "      <td>7788.00</td>\n",
       "      <td>10295.00</td>\n",
       "      <td>16503.00</td>\n",
       "      <td>45400.00</td>\n",
       "    </tr>\n",
       "  </tbody>\n",
       "</table>\n",
       "</div>"
      ],
      "text/plain": [
       "                  count          mean          std      min      25%  \\\n",
       "car_ID            205.0    103.000000    59.322565     1.00    52.00   \n",
       "symboling         205.0      0.834146     1.245307    -2.00     0.00   \n",
       "doornumber        205.0      3.121951     0.994966     2.00     2.00   \n",
       "wheelbase         205.0     98.756585     6.021776    86.60    94.50   \n",
       "carlength         205.0    174.049268    12.337289   141.10   166.30   \n",
       "carwidth          205.0     65.907805     2.145204    60.30    64.10   \n",
       "carheight         205.0     53.724878     2.443522    47.80    52.00   \n",
       "curbweight        205.0   2555.565854   520.680204  1488.00  2145.00   \n",
       "cylindernumber    205.0      4.380488     1.080854     2.00     4.00   \n",
       "enginesize        205.0    126.907317    41.642693    61.00    97.00   \n",
       "boreratio         205.0      3.329756     0.270844     2.54     3.15   \n",
       "stroke            205.0      3.255415     0.313597     2.07     3.11   \n",
       "compressionratio  205.0     10.142537     3.972040     7.00     8.60   \n",
       "horsepower        205.0    104.117073    39.544167    48.00    70.00   \n",
       "peakrpm           205.0   5125.121951   476.985643  4150.00  4800.00   \n",
       "citympg           205.0     25.219512     6.542142    13.00    19.00   \n",
       "highwaympg        205.0     30.751220     6.886443    16.00    25.00   \n",
       "price             205.0  13276.710571  7988.852332  5118.00  7788.00   \n",
       "\n",
       "                       50%       75%       max  \n",
       "car_ID              103.00    154.00    205.00  \n",
       "symboling             1.00      2.00      3.00  \n",
       "doornumber            4.00      4.00      4.00  \n",
       "wheelbase            97.00    102.40    120.90  \n",
       "carlength           173.20    183.10    208.10  \n",
       "carwidth             65.50     66.90     72.30  \n",
       "carheight            54.10     55.50     59.80  \n",
       "curbweight         2414.00   2935.00   4066.00  \n",
       "cylindernumber        4.00      4.00     12.00  \n",
       "enginesize          120.00    141.00    326.00  \n",
       "boreratio             3.31      3.58      3.94  \n",
       "stroke                3.29      3.41      4.17  \n",
       "compressionratio      9.00      9.40     23.00  \n",
       "horsepower           95.00    116.00    288.00  \n",
       "peakrpm            5200.00   5500.00   6600.00  \n",
       "citympg              24.00     30.00     49.00  \n",
       "highwaympg           30.00     34.00     54.00  \n",
       "price             10295.00  16503.00  45400.00  "
      ]
     },
     "execution_count": 10,
     "metadata": {},
     "output_type": "execute_result"
    }
   ],
   "source": [
    "df.describe().transpose()"
   ]
  },
  {
   "cell_type": "markdown",
   "id": "07d7ff49",
   "metadata": {},
   "source": [
    "#### Correlation Analysis"
   ]
  },
  {
   "cell_type": "code",
   "execution_count": 11,
   "id": "6be1a320",
   "metadata": {
    "scrolled": true
   },
   "outputs": [
    {
     "data": {
      "text/plain": [
       "highwaympg         -0.697599\n",
       "citympg            -0.685751\n",
       "car_ID             -0.109093\n",
       "peakrpm            -0.085267\n",
       "symboling          -0.079978\n",
       "doornumber          0.031835\n",
       "compressionratio    0.067984\n",
       "stroke              0.079443\n",
       "carheight           0.119336\n",
       "boreratio           0.553173\n",
       "wheelbase           0.577816\n",
       "carlength           0.682920\n",
       "cylindernumber      0.718305\n",
       "carwidth            0.759325\n",
       "horsepower          0.808139\n",
       "curbweight          0.835305\n",
       "enginesize          0.874145\n",
       "price               1.000000\n",
       "Name: price, dtype: float64"
      ]
     },
     "execution_count": 11,
     "metadata": {},
     "output_type": "execute_result"
    }
   ],
   "source": [
    "df.corr()[\"price\"].sort_values()"
   ]
  },
  {
   "cell_type": "code",
   "execution_count": 12,
   "id": "f9ec51ee",
   "metadata": {
    "scrolled": true
   },
   "outputs": [
    {
     "data": {
      "image/png": "[encoded data removed]",
      "text/plain": [
       "<Figure size 1080x360 with 2 Axes>"
      ]
     },
     "metadata": {
      "needs_background": "light"
     },
     "output_type": "display_data"
    }
   ],
   "source": [
    "plt.figure(figsize=(15,5))\n",
    "sns.heatmap(df.corr(),annot=True,cmap=\"magma\")\n",
    "plt.show()"
   ]
  },
  {
   "cell_type": "markdown",
   "id": "10a76e4c",
   "metadata": {},
   "source": [
    "- Variabel yang memiliki korelasi tinggi dengan variabel 'price' adalah 'wheelbase', 'carlength', 'carwidth', 'curbweight', 'cylindernumber', 'enginesize', 'boreratio', 'horsepower', 'citympg', 'highwaympg'"
   ]
  },
  {
   "cell_type": "markdown",
   "id": "60ebd066",
   "metadata": {},
   "source": [
    "#### Checking categories in df object"
   ]
  },
  {
   "cell_type": "code",
   "execution_count": 13,
   "id": "60c0219e",
   "metadata": {},
   "outputs": [
    {
     "data": {
      "text/plain": [
       "toyota corona           6\n",
       "toyota corolla          6\n",
       "peugeot 504             6\n",
       "subaru dl               4\n",
       "mitsubishi mirage g4    3\n",
       "                       ..\n",
       "mazda glc 4             1\n",
       "mazda rx2 coupe         1\n",
       "maxda glc deluxe        1\n",
       "maxda rx3               1\n",
       "volvo 246               1\n",
       "Name: CarName, Length: 147, dtype: int64"
      ]
     },
     "execution_count": 13,
     "metadata": {},
     "output_type": "execute_result"
    }
   ],
   "source": [
    "df['CarName'].value_counts()"
   ]
  },
  {
   "cell_type": "code",
   "execution_count": 14,
   "id": "f87c9ea7",
   "metadata": {
    "scrolled": true
   },
   "outputs": [
    {
     "data": {
      "text/plain": [
       "gas       185\n",
       "diesel     20\n",
       "Name: fueltype, dtype: int64"
      ]
     },
     "execution_count": 14,
     "metadata": {},
     "output_type": "execute_result"
    }
   ],
   "source": [
    "df['fueltype'].value_counts()"
   ]
  },
  {
   "cell_type": "code",
   "execution_count": 15,
   "id": "60fa7938",
   "metadata": {},
   "outputs": [
    {
     "data": {
      "text/plain": [
       "std      168\n",
       "turbo     37\n",
       "Name: aspiration, dtype: int64"
      ]
     },
     "execution_count": 15,
     "metadata": {},
     "output_type": "execute_result"
    }
   ],
   "source": [
    "df['aspiration'].value_counts()"
   ]
  },
  {
   "cell_type": "code",
   "execution_count": 16,
   "id": "8eac57ac",
   "metadata": {},
   "outputs": [
    {
     "data": {
      "text/plain": [
       "sedan          96\n",
       "hatchback      70\n",
       "wagon          25\n",
       "hardtop         8\n",
       "convertible     6\n",
       "Name: carbody, dtype: int64"
      ]
     },
     "execution_count": 16,
     "metadata": {},
     "output_type": "execute_result"
    }
   ],
   "source": [
    "df['carbody'].value_counts()"
   ]
  },
  {
   "cell_type": "code",
   "execution_count": 17,
   "id": "bc35817b",
   "metadata": {},
   "outputs": [
    {
     "data": {
      "text/plain": [
       "fwd    120\n",
       "rwd     76\n",
       "4wd      9\n",
       "Name: drivewheel, dtype: int64"
      ]
     },
     "execution_count": 17,
     "metadata": {},
     "output_type": "execute_result"
    }
   ],
   "source": [
    "df['drivewheel'].value_counts()"
   ]
  },
  {
   "cell_type": "code",
   "execution_count": 18,
   "id": "d0296bfc",
   "metadata": {},
   "outputs": [
    {
     "data": {
      "text/plain": [
       "front    202\n",
       "rear       3\n",
       "Name: enginelocation, dtype: int64"
      ]
     },
     "execution_count": 18,
     "metadata": {},
     "output_type": "execute_result"
    }
   ],
   "source": [
    "df['enginelocation'].value_counts()"
   ]
  },
  {
   "cell_type": "code",
   "execution_count": 19,
   "id": "38c7aa05",
   "metadata": {
    "scrolled": true
   },
   "outputs": [
    {
     "data": {
      "text/plain": [
       "ohc      148\n",
       "ohcf      15\n",
       "ohcv      13\n",
       "dohc      12\n",
       "l         12\n",
       "rotor      4\n",
       "dohcv      1\n",
       "Name: enginetype, dtype: int64"
      ]
     },
     "execution_count": 19,
     "metadata": {},
     "output_type": "execute_result"
    }
   ],
   "source": [
    "df['enginetype'].value_counts()"
   ]
  },
  {
   "cell_type": "code",
   "execution_count": 20,
   "id": "7e059625",
   "metadata": {},
   "outputs": [
    {
     "data": {
      "text/plain": [
       "mpfi    94\n",
       "2bbl    66\n",
       "idi     20\n",
       "1bbl    11\n",
       "spdi     9\n",
       "4bbl     3\n",
       "mfi      1\n",
       "spfi     1\n",
       "Name: fuelsystem, dtype: int64"
      ]
     },
     "execution_count": 20,
     "metadata": {},
     "output_type": "execute_result"
    }
   ],
   "source": [
    "df['fuelsystem'].value_counts()"
   ]
  },
  {
   "cell_type": "markdown",
   "id": "805f0c02",
   "metadata": {},
   "source": [
    "#### Visualization"
   ]
  },
  {
   "cell_type": "code",
   "execution_count": 21,
   "id": "9551dba5",
   "metadata": {},
   "outputs": [],
   "source": [
    "def vis_univar(data, column):\n",
    "    sns.color_palette(\"pastel\")\n",
    "    fig, (ax_box, ax_hist) = plt.subplots(2, sharex = True, gridspec_kw = {'height_ratios':(.2, .8)})\n",
    "    \n",
    "    sns.boxplot(data = df, x = column, ax = ax_box)\n",
    "    sns.histplot(data = df, x = column, ax = ax_hist, kde=True)\n",
    "    \n",
    "    ax_box.set(xlabel = '')\n",
    "    ax_hist.set(ylabel = 'Histogram (Count)')\n",
    "    \n",
    "    plt.show()"
   ]
  },
  {
   "cell_type": "code",
   "execution_count": 22,
   "id": "d15e03ed",
   "metadata": {
    "scrolled": true
   },
   "outputs": [
    {
     "data": {
      "image/png": "[encoded data removed]",
      "text/plain": [
       "<Figure size 432x288 with 2 Axes>"
      ]
     },
     "metadata": {
      "needs_background": "light"
     },
     "output_type": "display_data"
    }
   ],
   "source": [
    "vis_univar(df, 'price')"
   ]
  },
  {
   "cell_type": "markdown",
   "id": "4f19a8c0",
   "metadata": {},
   "source": [
    "- Terdapat outliers dari variabel 'price' namun karena data terlalu sedikit (205) dan data berbentuk skew right maka outliers tidak dihapus"
   ]
  },
  {
   "cell_type": "code",
   "execution_count": 23,
   "id": "511372d1",
   "metadata": {
    "scrolled": false
   },
   "outputs": [
    {
     "data": {
      "image/png": "[encoded data removed]",
      "text/plain": [
       "<Figure size 432x288 with 1 Axes>"
      ]
     },
     "metadata": {
      "needs_background": "light"
     },
     "output_type": "display_data"
    }
   ],
   "source": [
    "df.groupby('carbody')['price'].mean()\n",
    "p=sns.barplot(x='carbody',y='price',data=df,ci=False)\n",
    "plt.xlabel('Car Body')\n",
    "plt.ylabel('Price')\n",
    "plt.xticks(rotation = 30)\n",
    "plt.show()"
   ]
  },
  {
   "cell_type": "markdown",
   "id": "388d90b5",
   "metadata": {},
   "source": [
    "carbody convertible dan hardtop mempengaruhi harga mobil lebih tinggi dibandingkan tiga jenis carbody lainnya."
   ]
  },
  {
   "cell_type": "code",
   "execution_count": 24,
   "id": "e9ef36a0",
   "metadata": {
    "scrolled": true
   },
   "outputs": [
    {
     "data": {
      "image/png": "[encoded data removed]",
      "text/plain": [
       "<Figure size 432x288 with 1 Axes>"
      ]
     },
     "metadata": {
      "needs_background": "light"
     },
     "output_type": "display_data"
    }
   ],
   "source": [
    "df.groupby('drivewheel')['price'].mean()\n",
    "p=sns.barplot(x='drivewheel',y='price',data=df,ci=False)\n",
    "plt.xlabel('Drive Wheel')\n",
    "plt.ylabel('Price')\n",
    "plt.xticks(rotation = 30)\n",
    "plt.show()"
   ]
  },
  {
   "cell_type": "markdown",
   "id": "a3d72905",
   "metadata": {},
   "source": [
    "drivewheel rwd mempengaruhi harga mobil lebih tinggi dibandingkan drivewheel fwd dan 4wd"
   ]
  },
  {
   "cell_type": "code",
   "execution_count": 25,
   "id": "bf2b00a3",
   "metadata": {},
   "outputs": [
    {
     "data": {
      "image/png": "[encoded data removed]",
      "text/plain": [
       "<Figure size 432x288 with 1 Axes>"
      ]
     },
     "metadata": {
      "needs_background": "light"
     },
     "output_type": "display_data"
    }
   ],
   "source": [
    "df.groupby('enginelocation')['price'].mean()\n",
    "p=sns.barplot(x='enginelocation',y='price',data=df,ci=False)\n",
    "plt.xlabel('Engine Location')\n",
    "plt.ylabel('Price')\n",
    "plt.xticks(rotation = 30)\n",
    "plt.show()"
   ]
  },
  {
   "cell_type": "markdown",
   "id": "7dba6980",
   "metadata": {},
   "source": [
    "mobil yang memiliki harga tinggi rata-rata menggunakan enginelocation rear dibandingkan front"
   ]
  },
  {
   "cell_type": "code",
   "execution_count": 112,
   "id": "7523e098",
   "metadata": {
    "scrolled": false
   },
   "outputs": [
    {
     "data": {
      "text/plain": [
       "(array([0, 1, 2, 3, 4, 5, 6, 7]),\n",
       " [Text(0, 0, 'mpfi'),\n",
       "  Text(1, 0, '2bbl'),\n",
       "  Text(2, 0, 'mfi'),\n",
       "  Text(3, 0, '1bbl'),\n",
       "  Text(4, 0, 'spfi'),\n",
       "  Text(5, 0, '4bbl'),\n",
       "  Text(6, 0, 'idi'),\n",
       "  Text(7, 0, 'spdi')])"
      ]
     },
     "execution_count": 112,
     "metadata": {},
     "output_type": "execute_result"
    },
    {
     "data": {
      "image/png": "[encoded data removed]",
      "text/plain": [
       "<Figure size 400x200 with 1 Axes>"
      ]
     },
     "metadata": {
      "needs_background": "light"
     },
     "output_type": "display_data"
    }
   ],
   "source": [
    "plt.figure(figsize=(4,2),dpi = 100)\n",
    "sns.countplot(data = df , x ='fuelsystem',hue='fueltype')\n",
    "plt.xticks(rotation = 70)"
   ]
  },
  {
   "cell_type": "markdown",
   "id": "f765d728",
   "metadata": {},
   "source": [
    "fueltype diesel hanya digunakan pada mobil dengan fuelsystem idi"
   ]
  },
  {
   "cell_type": "code",
   "execution_count": 40,
   "id": "5c58f424",
   "metadata": {
    "scrolled": false
   },
   "outputs": [
    {
     "data": {
      "image/png": "[encoded data removed]",
      "text/plain": [
       "<Figure size 432x288 with 1 Axes>"
      ]
     },
     "metadata": {
      "needs_background": "light"
     },
     "output_type": "display_data"
    }
   ],
   "source": [
    "fig = plt.figure()  \n",
    "ax = sns.scatterplot(data = df, x='enginesize', y = 'price', hue = 'enginetype')\n",
    "plt.show() "
   ]
  },
  {
   "cell_type": "markdown",
   "id": "46b7b2cf",
   "metadata": {},
   "source": [
    "berdasarkan masing-masing enginetype, semakin besar enginesize maka rata-rata harga mobil semakin tinggi"
   ]
  },
  {
   "cell_type": "code",
   "execution_count": 30,
   "id": "e3eec25e",
   "metadata": {
    "scrolled": false
   },
   "outputs": [
    {
     "data": {
      "image/png": "[encoded data removed]",
      "text/plain": [
       "<Figure size 432x288 with 1 Axes>"
      ]
     },
     "metadata": {
      "needs_background": "light"
     },
     "output_type": "display_data"
    }
   ],
   "source": [
    "fig = plt.figure()  \n",
    "ax = sns.scatterplot(data = df, x='carwidth', y = 'price')\n",
    "plt.show() "
   ]
  },
  {
   "cell_type": "markdown",
   "id": "30201657",
   "metadata": {},
   "source": [
    "semakin tinggi carwidth maka semakin tinggi rata-rata harga mobil"
   ]
  },
  {
   "cell_type": "code",
   "execution_count": 31,
   "id": "ab7470cf",
   "metadata": {
    "scrolled": true
   },
   "outputs": [
    {
     "data": {
      "image/png": "[encoded data removed]",
      "text/plain": [
       "<Figure size 432x288 with 1 Axes>"
      ]
     },
     "metadata": {
      "needs_background": "light"
     },
     "output_type": "display_data"
    }
   ],
   "source": [
    "df.groupby('aspiration')['price'].mean()\n",
    "p=sns.barplot(x='aspiration',y='price',data=df,ci=False)\n",
    "plt.xlabel('aspiration')\n",
    "plt.ylabel('Price')\n",
    "plt.xticks(rotation = 30)\n",
    "plt.show()"
   ]
  },
  {
   "cell_type": "markdown",
   "id": "30162508",
   "metadata": {},
   "source": [
    "aspiration turbo mempengaruhi harga mobil lebih tinggi dibandingkan aspiration std"
   ]
  },
  {
   "cell_type": "markdown",
   "id": "973f2655",
   "metadata": {},
   "source": [
    "### One Hot Encoding"
   ]
  },
  {
   "cell_type": "code",
   "execution_count": 34,
   "id": "8b3e1278",
   "metadata": {},
   "outputs": [
    {
     "data": {
      "text/html": [
       "<div>\n",
       "<style scoped>\n",
       "    .dataframe tbody tr th:only-of-type {\n",
       "        vertical-align: middle;\n",
       "    }\n",
       "\n",
       "    .dataframe tbody tr th {\n",
       "        vertical-align: top;\n",
       "    }\n",
       "\n",
       "    .dataframe thead th {\n",
       "        text-align: right;\n",
       "    }\n",
       "</style>\n",
       "<table border=\"1\" class=\"dataframe\">\n",
       "  <thead>\n",
       "    <tr style=\"text-align: right;\">\n",
       "      <th></th>\n",
       "      <th>CarName</th>\n",
       "      <th>fueltype</th>\n",
       "      <th>aspiration</th>\n",
       "      <th>carbody</th>\n",
       "      <th>drivewheel</th>\n",
       "      <th>enginelocation</th>\n",
       "      <th>enginetype</th>\n",
       "      <th>fuelsystem</th>\n",
       "    </tr>\n",
       "  </thead>\n",
       "  <tbody>\n",
       "    <tr>\n",
       "      <th>0</th>\n",
       "      <td>alfa-romero giulia</td>\n",
       "      <td>gas</td>\n",
       "      <td>std</td>\n",
       "      <td>convertible</td>\n",
       "      <td>rwd</td>\n",
       "      <td>front</td>\n",
       "      <td>dohc</td>\n",
       "      <td>mpfi</td>\n",
       "    </tr>\n",
       "    <tr>\n",
       "      <th>1</th>\n",
       "      <td>alfa-romero stelvio</td>\n",
       "      <td>gas</td>\n",
       "      <td>std</td>\n",
       "      <td>convertible</td>\n",
       "      <td>rwd</td>\n",
       "      <td>front</td>\n",
       "      <td>dohc</td>\n",
       "      <td>mpfi</td>\n",
       "    </tr>\n",
       "    <tr>\n",
       "      <th>2</th>\n",
       "      <td>alfa-romero Quadrifoglio</td>\n",
       "      <td>gas</td>\n",
       "      <td>std</td>\n",
       "      <td>hatchback</td>\n",
       "      <td>rwd</td>\n",
       "      <td>front</td>\n",
       "      <td>ohcv</td>\n",
       "      <td>mpfi</td>\n",
       "    </tr>\n",
       "    <tr>\n",
       "      <th>3</th>\n",
       "      <td>audi 100 ls</td>\n",
       "      <td>gas</td>\n",
       "      <td>std</td>\n",
       "      <td>sedan</td>\n",
       "      <td>fwd</td>\n",
       "      <td>front</td>\n",
       "      <td>ohc</td>\n",
       "      <td>mpfi</td>\n",
       "    </tr>\n",
       "    <tr>\n",
       "      <th>4</th>\n",
       "      <td>audi 100ls</td>\n",
       "      <td>gas</td>\n",
       "      <td>std</td>\n",
       "      <td>sedan</td>\n",
       "      <td>4wd</td>\n",
       "      <td>front</td>\n",
       "      <td>ohc</td>\n",
       "      <td>mpfi</td>\n",
       "    </tr>\n",
       "  </tbody>\n",
       "</table>\n",
       "</div>"
      ],
      "text/plain": [
       "                    CarName fueltype aspiration      carbody drivewheel  \\\n",
       "0        alfa-romero giulia      gas        std  convertible        rwd   \n",
       "1       alfa-romero stelvio      gas        std  convertible        rwd   \n",
       "2  alfa-romero Quadrifoglio      gas        std    hatchback        rwd   \n",
       "3               audi 100 ls      gas        std        sedan        fwd   \n",
       "4                audi 100ls      gas        std        sedan        4wd   \n",
       "\n",
       "  enginelocation enginetype fuelsystem  \n",
       "0          front       dohc       mpfi  \n",
       "1          front       dohc       mpfi  \n",
       "2          front       ohcv       mpfi  \n",
       "3          front        ohc       mpfi  \n",
       "4          front        ohc       mpfi  "
      ]
     },
     "execution_count": 34,
     "metadata": {},
     "output_type": "execute_result"
    }
   ],
   "source": [
    "df1_obj=df.select_dtypes([\"object\"])\n",
    "df1_obj.head()"
   ]
  },
  {
   "cell_type": "code",
   "execution_count": 35,
   "id": "664923ad",
   "metadata": {},
   "outputs": [
    {
     "data": {
      "text/html": [
       "<div>\n",
       "<style scoped>\n",
       "    .dataframe tbody tr th:only-of-type {\n",
       "        vertical-align: middle;\n",
       "    }\n",
       "\n",
       "    .dataframe tbody tr th {\n",
       "        vertical-align: top;\n",
       "    }\n",
       "\n",
       "    .dataframe thead th {\n",
       "        text-align: right;\n",
       "    }\n",
       "</style>\n",
       "<table border=\"1\" class=\"dataframe\">\n",
       "  <thead>\n",
       "    <tr style=\"text-align: right;\">\n",
       "      <th></th>\n",
       "      <th>CarName_Nissan versa</th>\n",
       "      <th>CarName_alfa-romero Quadrifoglio</th>\n",
       "      <th>CarName_alfa-romero giulia</th>\n",
       "      <th>CarName_alfa-romero stelvio</th>\n",
       "      <th>CarName_audi 100 ls</th>\n",
       "      <th>CarName_audi 100ls</th>\n",
       "      <th>CarName_audi 4000</th>\n",
       "      <th>CarName_audi 5000</th>\n",
       "      <th>CarName_audi 5000s (diesel)</th>\n",
       "      <th>CarName_audi fox</th>\n",
       "      <th>...</th>\n",
       "      <th>enginetype_ohcv</th>\n",
       "      <th>enginetype_rotor</th>\n",
       "      <th>fuelsystem_1bbl</th>\n",
       "      <th>fuelsystem_2bbl</th>\n",
       "      <th>fuelsystem_4bbl</th>\n",
       "      <th>fuelsystem_idi</th>\n",
       "      <th>fuelsystem_mfi</th>\n",
       "      <th>fuelsystem_mpfi</th>\n",
       "      <th>fuelsystem_spdi</th>\n",
       "      <th>fuelsystem_spfi</th>\n",
       "    </tr>\n",
       "  </thead>\n",
       "  <tbody>\n",
       "    <tr>\n",
       "      <th>0</th>\n",
       "      <td>0</td>\n",
       "      <td>0</td>\n",
       "      <td>1</td>\n",
       "      <td>0</td>\n",
       "      <td>0</td>\n",
       "      <td>0</td>\n",
       "      <td>0</td>\n",
       "      <td>0</td>\n",
       "      <td>0</td>\n",
       "      <td>0</td>\n",
       "      <td>...</td>\n",
       "      <td>0</td>\n",
       "      <td>0</td>\n",
       "      <td>0</td>\n",
       "      <td>0</td>\n",
       "      <td>0</td>\n",
       "      <td>0</td>\n",
       "      <td>0</td>\n",
       "      <td>1</td>\n",
       "      <td>0</td>\n",
       "      <td>0</td>\n",
       "    </tr>\n",
       "    <tr>\n",
       "      <th>1</th>\n",
       "      <td>0</td>\n",
       "      <td>0</td>\n",
       "      <td>0</td>\n",
       "      <td>1</td>\n",
       "      <td>0</td>\n",
       "      <td>0</td>\n",
       "      <td>0</td>\n",
       "      <td>0</td>\n",
       "      <td>0</td>\n",
       "      <td>0</td>\n",
       "      <td>...</td>\n",
       "      <td>0</td>\n",
       "      <td>0</td>\n",
       "      <td>0</td>\n",
       "      <td>0</td>\n",
       "      <td>0</td>\n",
       "      <td>0</td>\n",
       "      <td>0</td>\n",
       "      <td>1</td>\n",
       "      <td>0</td>\n",
       "      <td>0</td>\n",
       "    </tr>\n",
       "    <tr>\n",
       "      <th>2</th>\n",
       "      <td>0</td>\n",
       "      <td>1</td>\n",
       "      <td>0</td>\n",
       "      <td>0</td>\n",
       "      <td>0</td>\n",
       "      <td>0</td>\n",
       "      <td>0</td>\n",
       "      <td>0</td>\n",
       "      <td>0</td>\n",
       "      <td>0</td>\n",
       "      <td>...</td>\n",
       "      <td>1</td>\n",
       "      <td>0</td>\n",
       "      <td>0</td>\n",
       "      <td>0</td>\n",
       "      <td>0</td>\n",
       "      <td>0</td>\n",
       "      <td>0</td>\n",
       "      <td>1</td>\n",
       "      <td>0</td>\n",
       "      <td>0</td>\n",
       "    </tr>\n",
       "    <tr>\n",
       "      <th>3</th>\n",
       "      <td>0</td>\n",
       "      <td>0</td>\n",
       "      <td>0</td>\n",
       "      <td>0</td>\n",
       "      <td>1</td>\n",
       "      <td>0</td>\n",
       "      <td>0</td>\n",
       "      <td>0</td>\n",
       "      <td>0</td>\n",
       "      <td>0</td>\n",
       "      <td>...</td>\n",
       "      <td>0</td>\n",
       "      <td>0</td>\n",
       "      <td>0</td>\n",
       "      <td>0</td>\n",
       "      <td>0</td>\n",
       "      <td>0</td>\n",
       "      <td>0</td>\n",
       "      <td>1</td>\n",
       "      <td>0</td>\n",
       "      <td>0</td>\n",
       "    </tr>\n",
       "    <tr>\n",
       "      <th>4</th>\n",
       "      <td>0</td>\n",
       "      <td>0</td>\n",
       "      <td>0</td>\n",
       "      <td>0</td>\n",
       "      <td>0</td>\n",
       "      <td>1</td>\n",
       "      <td>0</td>\n",
       "      <td>0</td>\n",
       "      <td>0</td>\n",
       "      <td>0</td>\n",
       "      <td>...</td>\n",
       "      <td>0</td>\n",
       "      <td>0</td>\n",
       "      <td>0</td>\n",
       "      <td>0</td>\n",
       "      <td>0</td>\n",
       "      <td>0</td>\n",
       "      <td>0</td>\n",
       "      <td>1</td>\n",
       "      <td>0</td>\n",
       "      <td>0</td>\n",
       "    </tr>\n",
       "  </tbody>\n",
       "</table>\n",
       "<p>5 rows × 176 columns</p>\n",
       "</div>"
      ],
      "text/plain": [
       "   CarName_Nissan versa  CarName_alfa-romero Quadrifoglio  \\\n",
       "0                     0                                 0   \n",
       "1                     0                                 0   \n",
       "2                     0                                 1   \n",
       "3                     0                                 0   \n",
       "4                     0                                 0   \n",
       "\n",
       "   CarName_alfa-romero giulia  CarName_alfa-romero stelvio  \\\n",
       "0                           1                            0   \n",
       "1                           0                            1   \n",
       "2                           0                            0   \n",
       "3                           0                            0   \n",
       "4                           0                            0   \n",
       "\n",
       "   CarName_audi 100 ls  CarName_audi 100ls  CarName_audi 4000  \\\n",
       "0                    0                   0                  0   \n",
       "1                    0                   0                  0   \n",
       "2                    0                   0                  0   \n",
       "3                    1                   0                  0   \n",
       "4                    0                   1                  0   \n",
       "\n",
       "   CarName_audi 5000  CarName_audi 5000s (diesel)  CarName_audi fox  ...  \\\n",
       "0                  0                            0                 0  ...   \n",
       "1                  0                            0                 0  ...   \n",
       "2                  0                            0                 0  ...   \n",
       "3                  0                            0                 0  ...   \n",
       "4                  0                            0                 0  ...   \n",
       "\n",
       "   enginetype_ohcv  enginetype_rotor  fuelsystem_1bbl  fuelsystem_2bbl  \\\n",
       "0                0                 0                0                0   \n",
       "1                0                 0                0                0   \n",
       "2                1                 0                0                0   \n",
       "3                0                 0                0                0   \n",
       "4                0                 0                0                0   \n",
       "\n",
       "   fuelsystem_4bbl  fuelsystem_idi  fuelsystem_mfi  fuelsystem_mpfi  \\\n",
       "0                0               0               0                1   \n",
       "1                0               0               0                1   \n",
       "2                0               0               0                1   \n",
       "3                0               0               0                1   \n",
       "4                0               0               0                1   \n",
       "\n",
       "   fuelsystem_spdi  fuelsystem_spfi  \n",
       "0                0                0  \n",
       "1                0                0  \n",
       "2                0                0  \n",
       "3                0                0  \n",
       "4                0                0  \n",
       "\n",
       "[5 rows x 176 columns]"
      ]
     },
     "execution_count": 35,
     "metadata": {},
     "output_type": "execute_result"
    }
   ],
   "source": [
    "df1_obj = pd.get_dummies(df1_obj)\n",
    "df1_obj.head()"
   ]
  },
  {
   "cell_type": "code",
   "execution_count": 36,
   "id": "240b0bb2",
   "metadata": {},
   "outputs": [],
   "source": [
    "df1_num=df.select_dtypes([\"float64\",\"int64\"])"
   ]
  },
  {
   "cell_type": "code",
   "execution_count": 37,
   "id": "2b13e553",
   "metadata": {},
   "outputs": [],
   "source": [
    "df1=pd.concat([df1_obj,df1_num],axis=1)"
   ]
  },
  {
   "cell_type": "code",
   "execution_count": 38,
   "id": "a3983515",
   "metadata": {
    "scrolled": true
   },
   "outputs": [
    {
     "name": "stdout",
     "output_type": "stream",
     "text": [
      "<class 'pandas.core.frame.DataFrame'>\n",
      "RangeIndex: 205 entries, 0 to 204\n",
      "Columns: 194 entries, CarName_Nissan versa to price\n",
      "dtypes: float64(8), int64(10), uint8(176)\n",
      "memory usage: 64.2 KB\n"
     ]
    }
   ],
   "source": [
    "df1.info()"
   ]
  },
  {
   "cell_type": "code",
   "execution_count": 39,
   "id": "0d5297d9",
   "metadata": {},
   "outputs": [],
   "source": [
    "#Separate into X_train, X_test, y_train, y_test (proportion 80-20)\n",
    "\n",
    "X = df1.drop(['car_ID','price','CarName_Nissan versa','fueltype_gas','aspiration_std','carbody_sedan','drivewheel_fwd',\n",
    "             'enginelocation_front','enginetype_ohc','fuelsystem_mpfi'],axis=1)\n",
    "y = df1[\"price\"]\n",
    "\n",
    "from sklearn.model_selection import train_test_split\n",
    "X_train, X_test, y_train, y_test = train_test_split(X, y, test_size=0.2,\n",
    "                                                    random_state=1)"
   ]
  },
  {
   "cell_type": "code",
   "execution_count": 40,
   "id": "c87ba172",
   "metadata": {},
   "outputs": [],
   "source": [
    "my_list = list(X)"
   ]
  },
  {
   "cell_type": "markdown",
   "id": "216865f6",
   "metadata": {},
   "source": [
    "### Linear Regression"
   ]
  },
  {
   "cell_type": "code",
   "execution_count": 41,
   "id": "0133838c",
   "metadata": {},
   "outputs": [
    {
     "name": "stdout",
     "output_type": "stream",
     "text": [
      "Coefficients:  [-5.11536838e+03 -2.56155688e+03  4.43443117e+02  1.12169235e+02\n",
      " -5.56192619e+03 -5.52997192e+03 -8.74020645e+03 -3.60304782e+03\n",
      "  4.58547180e+03  3.43515430e+03  1.40114607e+04  1.32388486e+04\n",
      "  1.88162471e+04  4.00784756e-08  1.03196462e+04  9.31785389e+02\n",
      " -5.64025838e+03  2.92852823e+04 -5.38193490e-10  1.35038644e+04\n",
      "  3.06077441e+04  3.53689469e+03  5.37995762e+03  1.31421984e-10\n",
      " -1.46392936e+03 -4.10606441e+02 -6.26185509e+02 -2.10618571e+03\n",
      " -3.02318571e+03  6.82121026e-10 -3.16504156e-10 -3.78495996e+03\n",
      "  5.14319254e-10 -2.48724535e+03 -8.65828587e+02  7.30453535e+03\n",
      " -5.43423084e-10  2.76031642e-10  2.44329895e+03 -3.16849058e+03\n",
      "  2.66666689e-10 -9.68061956e+01 -3.40151018e-10  9.24528602e+03\n",
      " -2.65134273e+03  5.86909069e+02  2.41513978e+03  2.03352689e+04\n",
      " -6.63021638e-10  2.83517552e+04 -4.92056849e+03 -4.77584087e+03\n",
      " -1.71212618e+03  2.54466198e+01  5.36601874e-11 -8.22497430e+02\n",
      " -4.44326608e+03 -1.83735340e+03 -2.60407015e+03  1.20814607e+03\n",
      " -4.29274456e+03 -1.28240569e+04 -1.17206298e+03 -4.27264114e+03\n",
      " -4.13985080e+03 -2.53271505e+02 -3.76033463e+03 -1.88830195e+03\n",
      " -3.13774320e+03 -3.97603118e+03 -3.48811747e+03 -7.55405065e+03\n",
      " -3.29152909e+02  1.84354323e+03 -1.29341883e+04  2.08431546e+02\n",
      "  9.05016716e+02  1.50976120e-10 -7.36510389e+02 -1.75870262e+03\n",
      " -1.20670334e+02 -1.05861925e+04 -5.41319290e+02 -2.56587973e+03\n",
      " -2.38763120e+03 -4.71866044e+03 -9.50896071e+01  3.26191986e+02\n",
      "  7.45785655e-11 -3.43993564e+03  8.59158332e+02 -1.47998974e+03\n",
      "  1.48963699e+03 -5.95047882e+03  1.29121217e+03  3.85386578e+03\n",
      "  2.79121217e+03 -4.75298387e+03  2.81943358e-11  6.40090500e+02\n",
      " -4.27486404e+03 -2.13169669e+03 -4.56165770e+03 -1.06521932e+03\n",
      " -1.19239357e+03 -2.00299197e+03 -4.98328158e+03  1.36591893e+02\n",
      " -1.85082172e-10 -5.55063293e+03 -5.05293941e+03 -1.49001540e+04\n",
      " -3.77932596e+03 -1.72103539e+03 -1.78177286e+03 -2.03429217e+03\n",
      " -3.94327827e+03 -6.53325997e+02 -1.30490224e+03 -1.96005379e+03\n",
      " -8.44706971e+03 -3.02951372e+03 -4.82211675e+03  6.82121026e-13\n",
      " -1.62282789e+03  4.19384555e+03 -2.72848411e-12 -7.15127935e+02\n",
      " -1.13686838e-13 -4.53489506e+03 -5.48868112e+03 -4.24392548e+03\n",
      "  1.70530257e-12  7.97340122e+02 -4.14591893e+03 -7.52756464e+03\n",
      " -4.87926263e+03 -6.21032834e+03 -1.46355523e+03  2.34065766e+03\n",
      "  7.67386155e-13  2.50415734e+03 -5.02323199e+03 -1.08378240e+04\n",
      " -6.06736144e+03 -3.41060513e-13  6.46447133e+03 -1.14569267e+03\n",
      "  1.04834819e+03 -2.53848772e+02 -6.81365647e+02  2.80040669e+03\n",
      " -3.58135285e+03  1.69111676e+03  1.84440995e+04  3.47598325e+02\n",
      " -1.05078094e+04 -9.44106899e+03 -1.26676737e+03  4.95495248e+03\n",
      " -6.57502252e+03 -7.32156859e+03  8.38449951e+02 -6.57502252e+03\n",
      "  6.46447133e+03  0.00000000e+00 -3.12943971e+03 -2.65134273e+03\n",
      "  1.13699850e+03  2.60530960e+02 -6.36587390e+01 -4.63442928e+02\n",
      "  2.80328536e+03  6.08032903e+02  1.44352143e+01 -1.78553584e+03\n",
      " -1.71054328e+02 -8.56775289e+02 -1.90419023e+03 -7.88215572e+02\n",
      "  1.00830597e+02 -2.17791307e+00 -1.69319225e+02  1.52813529e+02]\n",
      "Intercept:  -109560.26273474317\n"
     ]
    }
   ],
   "source": [
    "# create linear regression object\n",
    "reg = linear_model.LinearRegression()\n",
    " \n",
    "# train the model using the training sets\n",
    "reg.fit(X_train, y_train)\n",
    " \n",
    "# regression coefficients\n",
    "print('Coefficients: ', reg.coef_)\n",
    "\n",
    "# regression intercept\n",
    "print('Intercept: ', reg.intercept_)"
   ]
  },
  {
   "cell_type": "code",
   "execution_count": 42,
   "id": "eb85911c",
   "metadata": {},
   "outputs": [],
   "source": [
    "y_pred = reg.predict(X_test)"
   ]
  },
  {
   "cell_type": "code",
   "execution_count": 43,
   "id": "8c5ff12b",
   "metadata": {},
   "outputs": [
    {
     "data": {
      "text/plain": [
       "4765.509875155452"
      ]
     },
     "execution_count": 43,
     "metadata": {},
     "output_type": "execute_result"
    }
   ],
   "source": [
    "# MAE\n",
    "from sklearn.metrics import mean_absolute_error\n",
    "mean_absolute_error(y_test, y_pred)"
   ]
  },
  {
   "cell_type": "code",
   "execution_count": 44,
   "id": "20786dc2",
   "metadata": {},
   "outputs": [
    {
     "data": {
      "text/plain": [
       "47431894.687182546"
      ]
     },
     "execution_count": 44,
     "metadata": {},
     "output_type": "execute_result"
    }
   ],
   "source": [
    "# MSE\n",
    "from sklearn.metrics import mean_squared_error\n",
    "mean_squared_error(y_test, y_pred)"
   ]
  },
  {
   "cell_type": "code",
   "execution_count": 45,
   "id": "78affc41",
   "metadata": {},
   "outputs": [
    {
     "data": {
      "text/plain": [
       "6887.081725025669"
      ]
     },
     "execution_count": 45,
     "metadata": {},
     "output_type": "execute_result"
    }
   ],
   "source": [
    "# RMSE\n",
    "from sklearn.metrics import mean_squared_error\n",
    "mean_squared_error(y_test, y_pred, squared=False)"
   ]
  },
  {
   "cell_type": "code",
   "execution_count": 46,
   "id": "ad629cdb",
   "metadata": {},
   "outputs": [
    {
     "data": {
      "text/plain": [
       "0.1368254872830319"
      ]
     },
     "execution_count": 46,
     "metadata": {},
     "output_type": "execute_result"
    }
   ],
   "source": [
    "# R-square\n",
    "from sklearn.metrics import r2_score\n",
    "r2_score(y_test, y_pred)"
   ]
  },
  {
   "cell_type": "markdown",
   "id": "b6c606e7",
   "metadata": {},
   "source": [
    "### Ridge Regression"
   ]
  },
  {
   "cell_type": "code",
   "execution_count": 47,
   "id": "98dfb8c6",
   "metadata": {
    "scrolled": false
   },
   "outputs": [
    {
     "name": "stdout",
     "output_type": "stream",
     "text": [
      "Coefficients:  [ 1.00336642e+03 -2.41426286e+02  1.26107371e+03  1.36948412e+03\n",
      " -1.29960903e+03  1.11990622e+03 -2.35162865e+02  4.13783636e+02\n",
      "  4.23383933e+02  1.95189178e+03  1.90393076e+03  2.75701967e+03\n",
      "  1.78142193e+03  0.00000000e+00  2.37996719e+03  6.14760823e+02\n",
      "  2.40981544e+02  3.72474405e+02  0.00000000e+00  1.16161070e+03\n",
      "  3.11374293e+03  1.52876093e+03  9.72439443e+02  0.00000000e+00\n",
      "  4.36982078e+02  2.66456251e+01  3.69212364e+02  4.79386476e+01\n",
      " -4.10561353e+02  0.00000000e+00  0.00000000e+00 -3.34307914e+02\n",
      "  0.00000000e+00 -2.16956789e+02  3.01068196e+02 -2.71781722e+02\n",
      "  0.00000000e+00  0.00000000e+00  1.49771208e+03  3.72732464e+02\n",
      "  0.00000000e+00 -6.33214206e+02  0.00000000e+00 -2.16712540e+02\n",
      " -9.55642171e+01  9.77052257e+02 -4.41100684e+02  1.49458580e+03\n",
      "  0.00000000e+00 -2.56293229e+03  6.05522802e+01  1.00206773e+02\n",
      "  5.96244014e+01  7.41297811e+02  0.00000000e+00  5.62984064e+02\n",
      " -1.51061732e+03  1.08607544e+02  7.79179334e+01  2.12134550e+03\n",
      "  4.03249712e+02 -1.15486914e+03  3.67090477e+02 -3.56115542e+02\n",
      " -3.84320195e+02  6.52017823e+02 -1.68396055e+03 -8.84740762e+02\n",
      " -1.14238109e+03 -2.57051756e+02 -2.18511322e+03 -1.33685637e+03\n",
      "  3.74677029e+02  1.32518619e+03 -7.94263634e+02  1.55903730e+02\n",
      "  5.93527199e+02  0.00000000e+00 -5.66535346e+02 -1.96566599e+03\n",
      " -1.25979488e+02 -1.14826789e+03  1.24395502e+03 -2.38124364e+03\n",
      " -4.11970318e+02 -3.12755297e+02  4.56613496e+02 -6.07342341e+02\n",
      "  0.00000000e+00 -1.54737243e+03 -7.34784653e+01  2.39192787e+02\n",
      "  3.19518179e+02 -1.07721371e+03  1.09049506e+03  1.96394436e+03\n",
      "  1.58372152e+03  1.34683066e+03  0.00000000e+00  5.14119424e+01\n",
      "  1.90527099e+03  1.29538176e+03 -7.90789249e+02 -1.15002113e+03\n",
      " -5.85470638e+02 -5.48536313e+02 -7.28777023e+02 -4.86364202e+02\n",
      "  0.00000000e+00 -5.28553891e+02  1.98046994e+01 -8.49872665e+01\n",
      " -5.22460470e+02  8.29658605e+00 -6.62768148e+02  2.91069437e+02\n",
      "  6.72633900e+02 -1.40230100e+03  4.70151877e+02 -1.81598722e+02\n",
      "  1.37301571e+02 -2.84100606e+03 -4.69455900e+01  0.00000000e+00\n",
      "  8.39497254e+02 -1.99887191e+03  0.00000000e+00 -7.78847432e+02\n",
      "  0.00000000e+00 -1.03067461e+03 -1.27605611e+03  1.67312132e+02\n",
      "  0.00000000e+00 -1.35685185e+03  1.49648853e+03 -2.70856446e+02\n",
      " -1.33404375e+03 -2.01909826e+03 -2.45343195e+03 -6.37484372e+02\n",
      "  0.00000000e+00 -7.21770744e+01  2.59545510e+02  7.05457895e+02\n",
      " -1.07375355e+03  0.00000000e+00  8.80263437e+02  1.72229053e+03\n",
      "  2.88227768e+03  2.57701486e+02 -7.85946530e+02 -1.24020532e+03\n",
      " -7.51065930e+01  2.09508206e+03  5.15170802e+03 -1.53261669e+03\n",
      " -5.13547080e+02 -3.25669810e+03  1.14378953e+03 -3.57902731e+03\n",
      "  1.83802613e+03 -8.39438161e+02 -3.18045233e+01  1.83802613e+03\n",
      "  8.80263437e+02  0.00000000e+00 -1.31552768e+03 -9.55642171e+01\n",
      "  1.64798047e+02  4.08987604e+02  9.28897908e+01 -1.51960944e+02\n",
      "  1.03498578e+03  2.97251884e+02  2.92102723e+00 -1.28053535e+02\n",
      "  1.39118224e+02 -2.99023792e+03 -2.52577767e+03 -1.06767336e+02\n",
      " -7.90773941e+00  2.00983907e+00 -1.92918053e+02  1.63288109e+02]\n",
      "Intercept:  -70645.52105739499\n"
     ]
    }
   ],
   "source": [
    "from sklearn.linear_model import Ridge\n",
    "model = Ridge()\n",
    "model.fit(X_train, y_train)\n",
    "\n",
    "# regression coefficients\n",
    "print('Coefficients: ', model.coef_)\n",
    "\n",
    "# regression intercept\n",
    "print('Intercept: ', model.intercept_)"
   ]
  },
  {
   "cell_type": "code",
   "execution_count": 48,
   "id": "13acdb37",
   "metadata": {
    "scrolled": false
   },
   "outputs": [
    {
     "data": {
      "text/plain": [
       "['CarName_alfa-romero Quadrifoglio',\n",
       " 'CarName_alfa-romero giulia',\n",
       " 'CarName_alfa-romero stelvio',\n",
       " 'CarName_audi 100 ls',\n",
       " 'CarName_audi 100ls',\n",
       " 'CarName_audi 4000',\n",
       " 'CarName_audi 5000',\n",
       " 'CarName_audi 5000s (diesel)',\n",
       " 'CarName_audi fox',\n",
       " 'CarName_bmw 320i',\n",
       " 'CarName_bmw x1',\n",
       " 'CarName_bmw x3',\n",
       " 'CarName_bmw x4',\n",
       " 'CarName_bmw x5',\n",
       " 'CarName_bmw z4',\n",
       " 'CarName_buick century',\n",
       " 'CarName_buick century luxus (sw)',\n",
       " 'CarName_buick century special',\n",
       " 'CarName_buick electra 225 custom',\n",
       " 'CarName_buick opel isuzu deluxe',\n",
       " 'CarName_buick regal sport coupe (turbo)',\n",
       " 'CarName_buick skyhawk',\n",
       " 'CarName_buick skylark',\n",
       " 'CarName_chevrolet impala',\n",
       " 'CarName_chevrolet monte carlo',\n",
       " 'CarName_chevrolet vega 2300',\n",
       " 'CarName_dodge challenger se',\n",
       " 'CarName_dodge colt (sw)',\n",
       " 'CarName_dodge colt hardtop',\n",
       " 'CarName_dodge coronet custom',\n",
       " 'CarName_dodge coronet custom (sw)',\n",
       " 'CarName_dodge d200',\n",
       " 'CarName_dodge dart custom',\n",
       " 'CarName_dodge monaco (sw)',\n",
       " 'CarName_dodge rampage',\n",
       " 'CarName_honda accord',\n",
       " 'CarName_honda accord cvcc',\n",
       " 'CarName_honda accord lx',\n",
       " 'CarName_honda civic',\n",
       " 'CarName_honda civic (auto)',\n",
       " 'CarName_honda civic 1300',\n",
       " 'CarName_honda civic 1500 gl',\n",
       " 'CarName_honda civic cvcc',\n",
       " 'CarName_honda prelude',\n",
       " 'CarName_isuzu D-Max ',\n",
       " 'CarName_isuzu D-Max V-Cross',\n",
       " 'CarName_isuzu MU-X',\n",
       " 'CarName_jaguar xf',\n",
       " 'CarName_jaguar xj',\n",
       " 'CarName_jaguar xk',\n",
       " 'CarName_maxda glc deluxe',\n",
       " 'CarName_maxda rx3',\n",
       " 'CarName_mazda 626',\n",
       " 'CarName_mazda glc',\n",
       " 'CarName_mazda glc 4',\n",
       " 'CarName_mazda glc custom',\n",
       " 'CarName_mazda glc custom l',\n",
       " 'CarName_mazda glc deluxe',\n",
       " 'CarName_mazda rx-4',\n",
       " 'CarName_mazda rx-7 gs',\n",
       " 'CarName_mazda rx2 coupe',\n",
       " 'CarName_mercury cougar',\n",
       " 'CarName_mitsubishi g4',\n",
       " 'CarName_mitsubishi lancer',\n",
       " 'CarName_mitsubishi mirage',\n",
       " 'CarName_mitsubishi mirage g4',\n",
       " 'CarName_mitsubishi montero',\n",
       " 'CarName_mitsubishi outlander',\n",
       " 'CarName_mitsubishi pajero',\n",
       " 'CarName_nissan clipper',\n",
       " 'CarName_nissan dayz',\n",
       " 'CarName_nissan fuga',\n",
       " 'CarName_nissan gt-r',\n",
       " 'CarName_nissan juke',\n",
       " 'CarName_nissan kicks',\n",
       " 'CarName_nissan latio',\n",
       " 'CarName_nissan leaf',\n",
       " 'CarName_nissan note',\n",
       " 'CarName_nissan nv200',\n",
       " 'CarName_nissan otti',\n",
       " 'CarName_nissan rogue',\n",
       " 'CarName_nissan teana',\n",
       " 'CarName_nissan titan',\n",
       " 'CarName_peugeot 304',\n",
       " 'CarName_peugeot 504',\n",
       " 'CarName_peugeot 504 (sw)',\n",
       " 'CarName_peugeot 505s turbo diesel',\n",
       " 'CarName_peugeot 604sl',\n",
       " 'CarName_plymouth cricket',\n",
       " 'CarName_plymouth duster',\n",
       " 'CarName_plymouth fury gran sedan',\n",
       " 'CarName_plymouth fury iii',\n",
       " 'CarName_plymouth satellite custom (sw)',\n",
       " 'CarName_plymouth valiant',\n",
       " 'CarName_porcshce panamera',\n",
       " 'CarName_porsche boxter',\n",
       " 'CarName_porsche cayenne',\n",
       " 'CarName_porsche macan',\n",
       " 'CarName_renault 12tl',\n",
       " 'CarName_renault 5 gtl',\n",
       " 'CarName_saab 99e',\n",
       " 'CarName_saab 99gle',\n",
       " 'CarName_saab 99le',\n",
       " 'CarName_subaru',\n",
       " 'CarName_subaru baja',\n",
       " 'CarName_subaru brz',\n",
       " 'CarName_subaru dl',\n",
       " 'CarName_subaru r1',\n",
       " 'CarName_subaru r2',\n",
       " 'CarName_subaru trezia',\n",
       " 'CarName_subaru tribeca',\n",
       " 'CarName_toyota carina',\n",
       " 'CarName_toyota celica gt',\n",
       " 'CarName_toyota celica gt liftback',\n",
       " 'CarName_toyota corolla',\n",
       " 'CarName_toyota corolla 1200',\n",
       " 'CarName_toyota corolla 1600 (sw)',\n",
       " 'CarName_toyota corolla liftback',\n",
       " 'CarName_toyota corolla tercel',\n",
       " 'CarName_toyota corona',\n",
       " 'CarName_toyota corona hardtop',\n",
       " 'CarName_toyota corona liftback',\n",
       " 'CarName_toyota corona mark ii',\n",
       " 'CarName_toyota cressida',\n",
       " 'CarName_toyota mark ii',\n",
       " 'CarName_toyota starlet',\n",
       " 'CarName_toyota tercel',\n",
       " 'CarName_toyouta tercel',\n",
       " 'CarName_vokswagen rabbit',\n",
       " 'CarName_volkswagen 1131 deluxe sedan',\n",
       " 'CarName_volkswagen 411 (sw)',\n",
       " 'CarName_volkswagen dasher',\n",
       " 'CarName_volkswagen model 111',\n",
       " 'CarName_volkswagen rabbit',\n",
       " 'CarName_volkswagen rabbit custom',\n",
       " 'CarName_volkswagen super beetle',\n",
       " 'CarName_volkswagen type 3',\n",
       " 'CarName_volvo 144ea',\n",
       " 'CarName_volvo 145e (sw)',\n",
       " 'CarName_volvo 244dl',\n",
       " 'CarName_volvo 245',\n",
       " 'CarName_volvo 246',\n",
       " 'CarName_volvo 264gl',\n",
       " 'CarName_volvo diesel',\n",
       " 'CarName_vw dasher',\n",
       " 'CarName_vw rabbit',\n",
       " 'fueltype_diesel',\n",
       " 'aspiration_turbo',\n",
       " 'carbody_convertible',\n",
       " 'carbody_hardtop',\n",
       " 'carbody_hatchback',\n",
       " 'carbody_wagon',\n",
       " 'drivewheel_4wd',\n",
       " 'drivewheel_rwd',\n",
       " 'enginelocation_rear',\n",
       " 'enginetype_dohc',\n",
       " 'enginetype_dohcv',\n",
       " 'enginetype_l',\n",
       " 'enginetype_ohcf',\n",
       " 'enginetype_ohcv',\n",
       " 'enginetype_rotor',\n",
       " 'fuelsystem_1bbl',\n",
       " 'fuelsystem_2bbl',\n",
       " 'fuelsystem_4bbl',\n",
       " 'fuelsystem_idi',\n",
       " 'fuelsystem_mfi',\n",
       " 'fuelsystem_spdi',\n",
       " 'fuelsystem_spfi',\n",
       " 'symboling',\n",
       " 'doornumber',\n",
       " 'wheelbase',\n",
       " 'carlength',\n",
       " 'carwidth',\n",
       " 'carheight',\n",
       " 'curbweight',\n",
       " 'cylindernumber',\n",
       " 'enginesize',\n",
       " 'boreratio',\n",
       " 'stroke',\n",
       " 'compressionratio',\n",
       " 'horsepower',\n",
       " 'peakrpm',\n",
       " 'citympg',\n",
       " 'highwaympg']"
      ]
     },
     "execution_count": 48,
     "metadata": {},
     "output_type": "execute_result"
    }
   ],
   "source": [
    "my_list"
   ]
  },
  {
   "cell_type": "code",
   "execution_count": 49,
   "id": "96c8eab6",
   "metadata": {},
   "outputs": [],
   "source": [
    "y_pred = model.predict(X_test)"
   ]
  },
  {
   "cell_type": "code",
   "execution_count": 50,
   "id": "73234f12",
   "metadata": {},
   "outputs": [
    {
     "data": {
      "text/plain": [
       "1999.0707090604214"
      ]
     },
     "execution_count": 50,
     "metadata": {},
     "output_type": "execute_result"
    }
   ],
   "source": [
    "# MAE\n",
    "from sklearn.metrics import mean_absolute_error\n",
    "mean_absolute_error(y_test, y_pred)"
   ]
  },
  {
   "cell_type": "code",
   "execution_count": 51,
   "id": "53272a6e",
   "metadata": {},
   "outputs": [
    {
     "data": {
      "text/plain": [
       "10993045.370887317"
      ]
     },
     "execution_count": 51,
     "metadata": {},
     "output_type": "execute_result"
    }
   ],
   "source": [
    "# MSE\n",
    "from sklearn.metrics import mean_squared_error\n",
    "mean_squared_error(y_test, y_pred)"
   ]
  },
  {
   "cell_type": "code",
   "execution_count": 52,
   "id": "92b1a82c",
   "metadata": {},
   "outputs": [
    {
     "data": {
      "text/plain": [
       "3315.5761747978763"
      ]
     },
     "execution_count": 52,
     "metadata": {},
     "output_type": "execute_result"
    }
   ],
   "source": [
    "# RMSE\n",
    "from sklearn.metrics import mean_squared_error\n",
    "mean_squared_error(y_test, y_pred, squared=False)"
   ]
  },
  {
   "cell_type": "code",
   "execution_count": 53,
   "id": "8c6cf6fc",
   "metadata": {},
   "outputs": [
    {
     "data": {
      "text/plain": [
       "0.7999464992096266"
      ]
     },
     "execution_count": 53,
     "metadata": {},
     "output_type": "execute_result"
    }
   ],
   "source": [
    "# R-square\n",
    "from sklearn.metrics import r2_score\n",
    "r2_score(y_test, y_pred)"
   ]
  },
  {
   "cell_type": "markdown",
   "id": "e6620bbe",
   "metadata": {},
   "source": [
    "### Random Forest Tuning"
   ]
  },
  {
   "cell_type": "code",
   "execution_count": 54,
   "id": "6b72d93b",
   "metadata": {},
   "outputs": [],
   "source": [
    "from sklearn.ensemble import RandomForestRegressor\n",
    "from sklearn.metrics import r2_score\n",
    "from sklearn.metrics import mean_squared_error as mse\n",
    "\n",
    "base_model = RandomForestRegressor()"
   ]
  },
  {
   "cell_type": "code",
   "execution_count": 55,
   "id": "056d1784",
   "metadata": {},
   "outputs": [
    {
     "name": "stdout",
     "output_type": "stream",
     "text": [
      "Base Model has RMSE: 2232.0279520551157\n",
      "Base Model has R2-Score: 0.9093375620382901\n"
     ]
    }
   ],
   "source": [
    "base_model.fit(X_train, y_train)\n",
    "base_pred = base_model.predict(X_test)\n",
    "base_rmse = np.sqrt(mse(y_test, base_pred))\n",
    "print('Base Model has RMSE:', base_rmse)\n",
    "print('Base Model has R2-Score:', r2_score(y_test, base_pred))"
   ]
  },
  {
   "cell_type": "code",
   "execution_count": 106,
   "id": "eaa803e6",
   "metadata": {},
   "outputs": [
    {
     "name": "stdout",
     "output_type": "stream",
     "text": [
      "{'n_estimators': [1, 27, 53, 79, 106, 132, 158, 184, 211, 237, 263, 289, 316, 342, 368, 394, 421, 447, 473, 500], 'max_features': ['auto', 'sqrt'], 'max_depth': [1, 27, 53, 79, 106, 132, 158, 184, 211, 237, 263, 289, 316, 342, 368, 394, 421, 447, 473, 500, None], 'min_samples_split': [1, 2, 3, 4, 5, 6, 7, 8], 'min_samples_leaf': [1, 2, 3, 4, 5, 6, 7]}\n"
     ]
    }
   ],
   "source": [
    "from sklearn.model_selection import RandomizedSearchCV\n",
    "\n",
    "# Number of trees in random forest\n",
    "n_estimators = [int(x) for x in np.linspace(start = 1, stop = 500, num = 20)]\n",
    "# Number of features to consider at every split\n",
    "max_features = ['auto', 'sqrt']\n",
    "# Maximum number of levels in tree\n",
    "max_depth = [int(x) for x in np.linspace(1, 500, num = 20)]\n",
    "max_depth.append(None)\n",
    "# Minimum number of samples required to split a node\n",
    "min_samples_split = [1, 2, 3, 4, 5, 6, 7, 8]\n",
    "# Minimum number of samples required at each leaf node\n",
    "min_samples_leaf = [1, 2, 3, 4, 5, 6, 7]\n",
    "\n",
    "# Create the random grid\n",
    "random_grid = {'n_estimators': n_estimators,\n",
    "               'max_features': max_features,\n",
    "               'max_depth': max_depth,\n",
    "               'min_samples_split': min_samples_split,\n",
    "               'min_samples_leaf': min_samples_leaf}\n",
    "\n",
    "print(random_grid)"
   ]
  },
  {
   "cell_type": "code",
   "execution_count": 107,
   "id": "af8b26cb",
   "metadata": {},
   "outputs": [
    {
     "name": "stdout",
     "output_type": "stream",
     "text": [
      "Fitting 5 folds for each of 200 candidates, totalling 1000 fits\n"
     ]
    },
    {
     "name": "stderr",
     "output_type": "stream",
     "text": [
      "C:\\ProgramData\\Anaconda3\\lib\\site-packages\\sklearn\\model_selection\\_search.py:922: UserWarning: One or more of the test scores are non-finite: [0.92776491 0.62804589 0.92731905 0.64854443 0.92877864 0.73049685\n",
      " 0.91290627 0.84730793 0.72489639 0.7885528  0.92129049 0.91745549\n",
      " 0.46229737 0.71103669 0.93137088 0.91208273 0.68784959 0.90378651\n",
      " 0.71127247 0.71932148 0.72473886 0.71424598 0.85704753 0.90283437\n",
      " 0.90318966 0.90029292 0.92411764 0.92465635 0.7170599  0.91156874\n",
      " 0.66544841 0.46604874 0.4681416  0.93129715 0.93051491 0.84939644\n",
      " 0.74471909        nan 0.498079   0.9015256         nan 0.73750446\n",
      " 0.68017213 0.91830358 0.92947592 0.74549285 0.92451892 0.68243952\n",
      " 0.78414363 0.92579503 0.90488207 0.79438155        nan 0.91752721\n",
      " 0.898389   0.85740876 0.70700834 0.46772115 0.73692436 0.79761951\n",
      " 0.79267343 0.7230067  0.9250817  0.90631777 0.65435451 0.92740959\n",
      " 0.91877713 0.91259323 0.92596057 0.90833232        nan 0.90409698\n",
      " 0.72020686        nan 0.89684345        nan        nan 0.9282562\n",
      " 0.9094675  0.72776836 0.7129816  0.71350451 0.91248349 0.47610644\n",
      " 0.7178874  0.79410701 0.92764821 0.90099076 0.90424648 0.89395736\n",
      " 0.90376954 0.71011143 0.70834401 0.68838553 0.92522945        nan\n",
      " 0.46813611 0.92360742 0.91750212 0.71003286 0.8377652  0.71410026\n",
      " 0.92175305 0.78191485 0.76413106 0.8754506  0.65837516 0.91411353\n",
      " 0.92762649 0.75844961 0.83208635 0.70758239 0.9095368  0.74270402\n",
      " 0.92314863 0.92297846 0.75475101 0.91056785 0.6819972  0.65284853\n",
      " 0.66851721 0.92225054        nan 0.84560338        nan 0.92761933\n",
      " 0.75499972 0.71566998 0.93110275        nan        nan 0.70406398\n",
      " 0.84978604 0.66596484 0.90265791 0.91007247 0.92591271        nan\n",
      " 0.93456332 0.41327877 0.92575649 0.7181081  0.45730025 0.9285333\n",
      " 0.92222377 0.91379081 0.90214264 0.65857292 0.90116053        nan\n",
      " 0.66560521 0.57376887 0.92641596 0.92617126 0.92444533 0.72082114\n",
      " 0.83377806        nan 0.92600822 0.74072197 0.92495683 0.79329066\n",
      " 0.89333245 0.92808583 0.71398105 0.75016972 0.84569271        nan\n",
      " 0.44867494 0.92939031 0.92545808 0.92423775 0.66314362 0.72055865\n",
      " 0.90224523 0.8587365  0.77923167 0.92210301 0.90519591 0.92745784\n",
      " 0.70461109 0.91001237 0.89262595 0.91052855 0.91594144 0.90268547\n",
      "        nan 0.89056237 0.68244336 0.71833933 0.78847436 0.8862023\n",
      " 0.45796734 0.40424198 0.91208245        nan 0.72889766 0.77243672\n",
      " 0.70887704 0.71317548]\n",
      "  warnings.warn(\n",
      "C:\\ProgramData\\Anaconda3\\lib\\site-packages\\sklearn\\model_selection\\_search.py:922: UserWarning: One or more of the train scores are non-finite: [0.98102458 0.64543277 0.98612264 0.6962393  0.98371551 0.77097285\n",
      " 0.98095793 0.91907434 0.77065114 0.84578036 0.97126355 0.95003979\n",
      " 0.49508743 0.72480205 0.98091522 0.94159145 0.73472334 0.93286713\n",
      " 0.76209574 0.76883742 0.77761797 0.7661862  0.91920032 0.93331795\n",
      " 0.93310562 0.92963739 0.96065601 0.96033803 0.73050269 0.97554022\n",
      " 0.7130345  0.49901558 0.51244838 0.98108619 0.98091151 0.91600631\n",
      " 0.80419371        nan 0.64363746 0.93088815        nan 0.79395383\n",
      " 0.7285657  0.94937196 0.96458051 0.80930678 0.96658239 0.73240511\n",
      " 0.84630035 0.97116325 0.93250561 0.85571668        nan 0.94999642\n",
      " 0.93008555 0.92759108 0.7553642  0.50734301 0.80557031 0.86065683\n",
      " 0.85558804 0.73875452 0.96833343 0.93390958 0.69890638 0.97115886\n",
      " 0.95006328 0.94202999 0.97189059 0.97520014        nan 0.96184303\n",
      " 0.76868568        nan 0.95640202        nan        nan 0.98654399\n",
      " 0.9703469  0.75131125 0.76963571 0.76691368 0.94191035 0.54770554\n",
      " 0.76797097 0.84982138 0.9676546  0.93346468 0.9341977  0.92794966\n",
      " 0.93441743 0.76306039 0.7605749  0.72573084 0.96806397        nan\n",
      " 0.50661678 0.96864656 0.94923887 0.77691796 0.89943808 0.76629555\n",
      " 0.96067659 0.84139122 0.88535902 0.92776516 0.70531899 0.94173267\n",
      " 0.97555891 0.81789023 0.90085656 0.76500008 0.97492081 0.79577223\n",
      " 0.96099947 0.96073041 0.80442321 0.97504813 0.74073399 0.69894391\n",
      " 0.71125637 0.96078476        nan 0.90778585        nan 0.97104881\n",
      " 0.80723377 0.76609739 0.98059892        nan        nan 0.71560766\n",
      " 0.91593544 0.70654464 0.93254528 0.96634985 0.97110808        nan\n",
      " 0.97877856 0.54298649 0.98819104 0.77256881 0.49815253 0.98036847\n",
      " 0.95998025 0.94228962 0.93425008 0.70649765 0.93224702        nan\n",
      " 0.70749844 0.69801709 0.9683128  0.9709516  0.96042143 0.76798457\n",
      " 0.90632538        nan 0.97005307 0.80332263 0.97622735 0.85822901\n",
      " 0.95035555 0.98906779 0.76548956 0.80114833 0.91018308        nan\n",
      " 0.47781914 0.9880044  0.97132424 0.96121126 0.70844417 0.77263075\n",
      " 0.93252612 0.94031085 0.85048434 0.96058908 0.96895929 0.98130269\n",
      " 0.7207048  0.98083789 0.95047703 0.98065282 0.97463497 0.93233543\n",
      "        nan 0.95010436 0.7305709  0.76780239 0.85338782 0.95034552\n",
      " 0.49256523 0.43288627 0.94232059        nan 0.77942806 0.83051965\n",
      " 0.76407151 0.72994215]\n",
      "  warnings.warn(\n"
     ]
    },
    {
     "data": {
      "text/plain": [
       "RandomizedSearchCV(cv=5, estimator=RandomForestRegressor(), n_iter=200,\n",
       "                   n_jobs=-1,\n",
       "                   param_distributions={'max_depth': [1, 27, 53, 79, 106, 132,\n",
       "                                                      158, 184, 211, 237, 263,\n",
       "                                                      289, 316, 342, 368, 394,\n",
       "                                                      421, 447, 473, 500,\n",
       "                                                      None],\n",
       "                                        'max_features': ['auto', 'sqrt'],\n",
       "                                        'min_samples_leaf': [1, 2, 3, 4, 5, 6,\n",
       "                                                             7],\n",
       "                                        'min_samples_split': [1, 2, 3, 4, 5, 6,\n",
       "                                                              7, 8],\n",
       "                                        'n_estimators': [1, 27, 53, 79, 106,\n",
       "                                                         132, 158, 184, 211,\n",
       "                                                         237, 263, 289, 316,\n",
       "                                                         342, 368, 394, 421,\n",
       "                                                         447, 473, 500]},\n",
       "                   random_state=42, return_train_score=True, verbose=3)"
      ]
     },
     "execution_count": 107,
     "metadata": {},
     "output_type": "execute_result"
    }
   ],
   "source": [
    "# Use the random grid to search for best hyperparameters\n",
    "# First create the base model to tune\n",
    "rf = RandomForestRegressor()\n",
    "# Random search of parameters, using 5 fold cross validation, \n",
    "# search across 100 different combinations, and use all available cores\n",
    "rf_random = RandomizedSearchCV(estimator=rf, param_distributions=random_grid,\n",
    "                              n_iter = 200, cv = 5, verbose=3, random_state=42, n_jobs=-1,\n",
    "                              return_train_score=True)\n",
    "\n",
    "# Fit the random search model\n",
    "rf_random.fit(X_train, y_train)"
   ]
  },
  {
   "cell_type": "code",
   "execution_count": 108,
   "id": "20196eab",
   "metadata": {},
   "outputs": [
    {
     "data": {
      "text/plain": [
       "{'n_estimators': 27,\n",
       " 'min_samples_split': 4,\n",
       " 'min_samples_leaf': 2,\n",
       " 'max_features': 'auto',\n",
       " 'max_depth': 211}"
      ]
     },
     "execution_count": 108,
     "metadata": {},
     "output_type": "execute_result"
    }
   ],
   "source": [
    "rf_random.best_params_"
   ]
  },
  {
   "cell_type": "code",
   "execution_count": 109,
   "id": "3638619b",
   "metadata": {},
   "outputs": [
    {
     "name": "stdout",
     "output_type": "stream",
     "text": [
      "New Model has RMSE: 2187.952158410769\n",
      "New Model has R2-Score: 0.9128828261254749\n"
     ]
    }
   ],
   "source": [
    "new_pred = rf_random.best_estimator_.predict(X_test)\n",
    "new_rmse = np.sqrt(mse(y_test, new_pred))\n",
    "print('New Model has RMSE:', new_rmse)\n",
    "print('New Model has R2-Score:', r2_score(y_test, new_pred))"
   ]
  },
  {
   "cell_type": "code",
   "execution_count": 110,
   "id": "4ca804cd",
   "metadata": {},
   "outputs": [
    {
     "name": "stdout",
     "output_type": "stream",
     "text": [
      "Improvement of: 1.9746972077013931 %\n"
     ]
    }
   ],
   "source": [
    "print('Improvement of:', ((base_rmse - new_rmse)/base_rmse)*100, '%')"
   ]
  },
  {
   "cell_type": "markdown",
   "id": "8c7b2dbe",
   "metadata": {},
   "source": [
    "#### Linear Regression\n",
    "- MAE = 4765.509875155452\n",
    "- RMSE = 6887.081725025669\n",
    "- R-Square = 0.1368254872830319\n",
    "\n",
    "#### Ridge Regression\n",
    "- MAE = 1999.0707090604214\n",
    "- RMSE = 3315.5761747978763\n",
    "- R-Square = 0.7999464992096266\n",
    "\n",
    "Ridge regression memiliki error yang lebih minimum dan nilai r-square lebih tinggi dibandingkan dengan Linear Regression. \n",
    "\n",
    "#### Random Forest Tuning\n",
    "Improvement : 1.9746972077013931 %\n",
    "\n",
    "Dari random forest tuning didapatkan model improvement sebesar 1.97 %, sehingga model yang dipilih adalah random forest\n",
    "\n",
    "#### Mobil dengan harga tinggi memiliki spesifikasi:\n",
    "- highwaympg tinggi\n",
    "- peakrpm tinggi\n",
    "- enginesize tinggi\n",
    "- symboling tinggi\n",
    "- doornumber tinggi\n",
    "- wheelbase tinggi\n",
    "- carwidth tinggi\n",
    "- carheight tinggi\n",
    "- curbweight tinggi\n",
    "- citympg rendah\n",
    "- carlength rendah\n",
    "- cylindernumber rendah\n",
    "- horsepower rendah\n",
    "- boreratio rendah\n",
    "- stroke rendah\n",
    "- compressionratio rendah\n",
    "- fuelsystem_4bbl dan fuelsystem_idi mempengaruhi harga mobil lebih tinggi daripada fuelsystem_mpfi\n",
    "- enginetype_ohcv dan enginetype_rotor mempengaruhi harga mobil lebih tinggi daripada enginetype_ohc\n",
    "- enginelocation_rear mempengaruhi harga mobil lebih tinggi daripada enginelocation_front\n",
    "- drivewheel_rwd mempengaruhi harga mobil lebih tinggi daripada drivewheel_fwd \n",
    "- carbody_convertible dan carbody_hardtop mempengaruhi harga mobil lebih tinggi daripada carbody_sedan\n",
    "- aspiration_turbo mempengaruhi harga mobil lebih tinggi daripada aspiration_std\n",
    "- fueltype_diesel mempengaruhi harga mobil lebih tinggi daripada fueltype_gas\n",
    "\n",
    "\n",
    "- Semua jenis porche memiliki harga yang lebih tinggi dibandingkan Nissan versa\n",
    "- Hanya jenis honda civic yang memiliki harga lebih tinggi dibandingkan Nissa versa\n",
    "- untuk brand bmw, semua jenisnya memiliki harga yang lebih tinggi daripada Nissan versa kecuali jenis bmw x5 \n",
    "- sehingga dapat disimpulkan brand name tidak terlalu mempengaruhi harga mobil\n"
   ]
  },
  {
   "cell_type": "code",
   "execution_count": null,
   "id": "549ce4d1",
   "metadata": {},
   "outputs": [],
   "source": []
  }
 ],
 "metadata": {
  "kernelspec": {
   "display_name": "Python 3 (ipykernel)",
   "language": "python",
   "name": "python3"
  },
  "language_info": {
   "codemirror_mode": {
    "name": "ipython",
    "version": 3
   },
   "file_extension": ".py",
   "mimetype": "text/x-python",
   "name": "python",
   "nbconvert_exporter": "python",
   "pygments_lexer": "ipython3",
   "version": "3.9.7"
  }
 },
 "nbformat": 4,
 "nbformat_minor": 5
}
